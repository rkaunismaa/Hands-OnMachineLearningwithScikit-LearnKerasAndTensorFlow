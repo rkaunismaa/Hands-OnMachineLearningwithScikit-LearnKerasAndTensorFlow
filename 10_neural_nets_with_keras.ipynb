{
 "cells": [
  {
   "cell_type": "code",
   "execution_count": null,
   "metadata": {},
   "outputs": [],
   "source": [
    "# This is NOT using the GPU!! ... sigh ... WTF!\n",
    "# Run Date: Wednesday, February 08, 2023\n",
    "# Run Time: 00:17:30"
   ]
  },
  {
   "cell_type": "code",
   "execution_count": 1,
   "metadata": {},
   "outputs": [],
   "source": [
    "import time\n",
    "from datetime import date\n",
    "\n",
    "startTime = time.time()\n",
    "todaysDate = date.today()"
   ]
  },
  {
   "cell_type": "markdown",
   "metadata": {},
   "source": [
    "**Chapter 10 – Introduction to Artificial Neural Networks with Keras**"
   ]
  },
  {
   "cell_type": "markdown",
   "metadata": {},
   "source": [
    "_This notebook contains all the sample code and solutions to the exercises in chapter 10._"
   ]
  },
  {
   "cell_type": "markdown",
   "metadata": {},
   "source": [
    "<table align=\"left\">\n",
    "  <td>\n",
    "    <a href=\"https://colab.research.google.com/github/ageron/handson-ml3/blob/main/10_neural_nets_with_keras.ipynb\" target=\"_parent\"><img src=\"https://colab.research.google.com/assets/colab-badge.svg\" alt=\"Open In Colab\"/></a>\n",
    "  </td>\n",
    "  <td>\n",
    "    <a target=\"_blank\" href=\"https://kaggle.com/kernels/welcome?src=https://github.com/ageron/handson-ml3/blob/main/10_neural_nets_with_keras.ipynb\"><img src=\"https://kaggle.com/static/images/open-in-kaggle.svg\" /></a>\n",
    "  </td>\n",
    "</table>"
   ]
  },
  {
   "cell_type": "markdown",
   "metadata": {
    "tags": []
   },
   "source": [
    "# Setup"
   ]
  },
  {
   "cell_type": "markdown",
   "metadata": {},
   "source": [
    "This project requires Python 3.7 or above:"
   ]
  },
  {
   "cell_type": "code",
   "execution_count": 2,
   "metadata": {},
   "outputs": [],
   "source": [
    "import sys\n",
    "\n",
    "assert sys.version_info >= (3, 7)"
   ]
  },
  {
   "cell_type": "markdown",
   "metadata": {},
   "source": [
    "It also requires Scikit-Learn ≥ 1.0.1:"
   ]
  },
  {
   "cell_type": "code",
   "execution_count": 3,
   "metadata": {},
   "outputs": [],
   "source": [
    "from packaging import version\n",
    "import sklearn\n",
    "\n",
    "assert version.parse(sklearn.__version__) >= version.parse(\"1.0.1\")"
   ]
  },
  {
   "cell_type": "markdown",
   "metadata": {},
   "source": [
    "And TensorFlow ≥ 2.8:"
   ]
  },
  {
   "cell_type": "code",
   "execution_count": 4,
   "metadata": {},
   "outputs": [
    {
     "name": "stderr",
     "output_type": "stream",
     "text": [
      "2023-02-08 15:25:46.827304: I tensorflow/core/platform/cpu_feature_guard.cc:193] This TensorFlow binary is optimized with oneAPI Deep Neural Network Library (oneDNN) to use the following CPU instructions in performance-critical operations:  AVX2 FMA\n",
      "To enable them in other operations, rebuild TensorFlow with the appropriate compiler flags.\n",
      "2023-02-08 15:25:46.947250: E tensorflow/stream_executor/cuda/cuda_blas.cc:2981] Unable to register cuBLAS factory: Attempting to register factory for plugin cuBLAS when one has already been registered\n"
     ]
    }
   ],
   "source": [
    "import tensorflow as tf\n",
    "\n",
    "assert version.parse(tf.__version__) >= version.parse(\"2.8.0\")"
   ]
  },
  {
   "cell_type": "markdown",
   "metadata": {},
   "source": [
    "As we did in previous chapters, let's define the default font sizes to make the figures prettier:"
   ]
  },
  {
   "cell_type": "code",
   "execution_count": 5,
   "metadata": {},
   "outputs": [],
   "source": [
    "import matplotlib.pyplot as plt\n",
    "\n",
    "plt.rc('font', size=14)\n",
    "plt.rc('axes', labelsize=14, titlesize=14)\n",
    "plt.rc('legend', fontsize=14)\n",
    "plt.rc('xtick', labelsize=10)\n",
    "plt.rc('ytick', labelsize=10)"
   ]
  },
  {
   "cell_type": "markdown",
   "metadata": {},
   "source": [
    "And let's create the `images/ann` folder (if it doesn't already exist), and define the `save_fig()` function which is used through this notebook to save the figures in high-res for the book:"
   ]
  },
  {
   "cell_type": "code",
   "execution_count": 6,
   "metadata": {},
   "outputs": [],
   "source": [
    "from pathlib import Path\n",
    "\n",
    "IMAGES_PATH = Path() / \"images\" / \"ann\"\n",
    "IMAGES_PATH.mkdir(parents=True, exist_ok=True)\n",
    "\n",
    "def save_fig(fig_id, tight_layout=True, fig_extension=\"png\", resolution=300):\n",
    "    path = IMAGES_PATH / f\"{fig_id}.{fig_extension}\"\n",
    "    if tight_layout:\n",
    "        plt.tight_layout()\n",
    "    plt.savefig(path, format=fig_extension, dpi=resolution)"
   ]
  },
  {
   "cell_type": "markdown",
   "metadata": {},
   "source": [
    "# From Biological to Artificial Neurons\n",
    "## The Perceptron"
   ]
  },
  {
   "cell_type": "code",
   "execution_count": 7,
   "metadata": {},
   "outputs": [],
   "source": [
    "import numpy as np\n",
    "from sklearn.datasets import load_iris\n",
    "from sklearn.linear_model import Perceptron\n",
    "\n",
    "iris = load_iris(as_frame=True)\n",
    "X = iris.data[[\"petal length (cm)\", \"petal width (cm)\"]].values\n",
    "y = (iris.target == 0)  # Iris setosa\n",
    "\n",
    "per_clf = Perceptron(random_state=42)\n",
    "per_clf.fit(X, y)\n",
    "\n",
    "X_new = [[2, 0.5], [3, 1]]\n",
    "y_pred = per_clf.predict(X_new)  # predicts True and False for these 2 flowers"
   ]
  },
  {
   "cell_type": "code",
   "execution_count": 8,
   "metadata": {},
   "outputs": [
    {
     "data": {
      "text/plain": [
       "array([ True, False])"
      ]
     },
     "execution_count": 8,
     "metadata": {},
     "output_type": "execute_result"
    }
   ],
   "source": [
    "y_pred"
   ]
  },
  {
   "cell_type": "markdown",
   "metadata": {},
   "source": [
    "The `Perceptron` is equivalent to a `SGDClassifier` with `loss=\"perceptron\"`, no regularization, and a constant learning rate equal to 1:"
   ]
  },
  {
   "cell_type": "code",
   "execution_count": 9,
   "metadata": {},
   "outputs": [],
   "source": [
    "# extra code – shows how to build and train a Perceptron\n",
    "\n",
    "from sklearn.linear_model import SGDClassifier\n",
    "\n",
    "sgd_clf = SGDClassifier(loss=\"perceptron\", penalty=None,\n",
    "                        learning_rate=\"constant\", eta0=1, random_state=42)\n",
    "sgd_clf.fit(X, y)\n",
    "assert (sgd_clf.coef_ == per_clf.coef_).all()\n",
    "assert (sgd_clf.intercept_ == per_clf.intercept_).all()"
   ]
  },
  {
   "cell_type": "markdown",
   "metadata": {},
   "source": [
    "When the Perceptron finds a decision boundary that properly separates the classes, it stops learning. This means that the decision boundary is often quite close to one class:"
   ]
  },
  {
   "cell_type": "code",
   "execution_count": 10,
   "metadata": {},
   "outputs": [
    {
     "data": {
      "image/png": "[encoded data removed]",
      "text/plain": [
       "<Figure size 700x300 with 1 Axes>"
      ]
     },
     "metadata": {},
     "output_type": "display_data"
    }
   ],
   "source": [
    "# extra code – plots the decision boundary of a Perceptron on the iris dataset\n",
    "\n",
    "import matplotlib.pyplot as plt\n",
    "from matplotlib.colors import ListedColormap\n",
    "\n",
    "a = -per_clf.coef_[0, 0] / per_clf.coef_[0, 1]\n",
    "b = -per_clf.intercept_ / per_clf.coef_[0, 1]\n",
    "axes = [0, 5, 0, 2]\n",
    "x0, x1 = np.meshgrid(\n",
    "    np.linspace(axes[0], axes[1], 500).reshape(-1, 1),\n",
    "    np.linspace(axes[2], axes[3], 200).reshape(-1, 1),\n",
    ")\n",
    "X_new = np.c_[x0.ravel(), x1.ravel()]\n",
    "y_predict = per_clf.predict(X_new)\n",
    "zz = y_predict.reshape(x0.shape)\n",
    "custom_cmap = ListedColormap(['#9898ff', '#fafab0'])\n",
    "\n",
    "plt.figure(figsize=(7, 3))\n",
    "plt.plot(X[y == 0, 0], X[y == 0, 1], \"bs\", label=\"Not Iris setosa\")\n",
    "plt.plot(X[y == 1, 0], X[y == 1, 1], \"yo\", label=\"Iris setosa\")\n",
    "plt.plot([axes[0], axes[1]], [a * axes[0] + b, a * axes[1] + b], \"k-\",\n",
    "         linewidth=3)\n",
    "plt.contourf(x0, x1, zz, cmap=custom_cmap)\n",
    "plt.xlabel(\"Petal length\")\n",
    "plt.ylabel(\"Petal width\")\n",
    "plt.legend(loc=\"lower right\")\n",
    "plt.axis(axes)\n",
    "plt.show()"
   ]
  },
  {
   "cell_type": "markdown",
   "metadata": {},
   "source": [
    "**Activation functions**"
   ]
  },
  {
   "cell_type": "code",
   "execution_count": 11,
   "metadata": {},
   "outputs": [
    {
     "data": {
      "image/png": "[encoded data removed]",
      "text/plain": [
       "<Figure size 1100x310 with 2 Axes>"
      ]
     },
     "metadata": {},
     "output_type": "display_data"
    }
   ],
   "source": [
    "# extra code – this cell generates and saves Figure 10–8\n",
    "\n",
    "from scipy.special import expit as sigmoid\n",
    "\n",
    "def relu(z):\n",
    "    return np.maximum(0, z)\n",
    "\n",
    "def derivative(f, z, eps=0.000001):\n",
    "    return (f(z + eps) - f(z - eps))/(2 * eps)\n",
    "\n",
    "max_z = 4.5\n",
    "z = np.linspace(-max_z, max_z, 200)\n",
    "\n",
    "plt.figure(figsize=(11, 3.1))\n",
    "\n",
    "plt.subplot(121)\n",
    "plt.plot([-max_z, 0], [0, 0], \"r-\", linewidth=2, label=\"Heaviside\")\n",
    "plt.plot(z, relu(z), \"m-.\", linewidth=2, label=\"ReLU\")\n",
    "plt.plot([0, 0], [0, 1], \"r-\", linewidth=0.5)\n",
    "plt.plot([0, max_z], [1, 1], \"r-\", linewidth=2)\n",
    "plt.plot(z, sigmoid(z), \"g--\", linewidth=2, label=\"Sigmoid\")\n",
    "plt.plot(z, np.tanh(z), \"b-\", linewidth=1, label=\"Tanh\")\n",
    "plt.grid(True)\n",
    "plt.title(\"Activation functions\")\n",
    "plt.axis([-max_z, max_z, -1.65, 2.4])\n",
    "plt.gca().set_yticks([-1, 0, 1, 2])\n",
    "plt.legend(loc=\"lower right\", fontsize=13)\n",
    "\n",
    "plt.subplot(122)\n",
    "plt.plot(z, derivative(np.sign, z), \"r-\", linewidth=2, label=\"Heaviside\")\n",
    "plt.plot(0, 0, \"ro\", markersize=5)\n",
    "plt.plot(0, 0, \"rx\", markersize=10)\n",
    "plt.plot(z, derivative(sigmoid, z), \"g--\", linewidth=2, label=\"Sigmoid\")\n",
    "plt.plot(z, derivative(np.tanh, z), \"b-\", linewidth=1, label=\"Tanh\")\n",
    "plt.plot([-max_z, 0], [0, 0], \"m-.\", linewidth=2)\n",
    "plt.plot([0, max_z], [1, 1], \"m-.\", linewidth=2)\n",
    "plt.plot([0, 0], [0, 1], \"m-.\", linewidth=1.2)\n",
    "plt.plot(0, 1, \"mo\", markersize=5)\n",
    "plt.plot(0, 1, \"mx\", markersize=10)\n",
    "plt.grid(True)\n",
    "plt.title(\"Derivatives\")\n",
    "plt.axis([-max_z, max_z, -0.2, 1.2])\n",
    "\n",
    "save_fig(\"activation_functions_plot\")\n",
    "plt.show()"
   ]
  },
  {
   "cell_type": "markdown",
   "metadata": {},
   "source": [
    "## Regression MLPs"
   ]
  },
  {
   "cell_type": "code",
   "execution_count": 12,
   "metadata": {},
   "outputs": [],
   "source": [
    "from sklearn.datasets import fetch_california_housing\n",
    "from sklearn.metrics import mean_squared_error\n",
    "from sklearn.model_selection import train_test_split\n",
    "from sklearn.neural_network import MLPRegressor\n",
    "from sklearn.pipeline import make_pipeline\n",
    "from sklearn.preprocessing import StandardScaler\n",
    "\n",
    "housing = fetch_california_housing()\n",
    "X_train_full, X_test, y_train_full, y_test = train_test_split(\n",
    "    housing.data, housing.target, random_state=42)\n",
    "X_train, X_valid, y_train, y_valid = train_test_split(\n",
    "    X_train_full, y_train_full, random_state=42)\n",
    "\n",
    "mlp_reg = MLPRegressor(hidden_layer_sizes=[50, 50, 50], random_state=42)\n",
    "pipeline = make_pipeline(StandardScaler(), mlp_reg)\n",
    "pipeline.fit(X_train, y_train)\n",
    "y_pred = pipeline.predict(X_valid)\n",
    "rmse = mean_squared_error(y_valid, y_pred, squared=False)"
   ]
  },
  {
   "cell_type": "code",
   "execution_count": 13,
   "metadata": {},
   "outputs": [
    {
     "data": {
      "text/plain": [
       "0.5053326657968389"
      ]
     },
     "execution_count": 13,
     "metadata": {},
     "output_type": "execute_result"
    }
   ],
   "source": [
    "rmse"
   ]
  },
  {
   "cell_type": "markdown",
   "metadata": {},
   "source": [
    "## Classification MLPs"
   ]
  },
  {
   "cell_type": "code",
   "execution_count": 14,
   "metadata": {},
   "outputs": [
    {
     "data": {
      "text/plain": [
       "1.0"
      ]
     },
     "execution_count": 14,
     "metadata": {},
     "output_type": "execute_result"
    }
   ],
   "source": [
    "# extra code – this was left as an exercise for the reader\n",
    "\n",
    "from sklearn.datasets import load_iris\n",
    "from sklearn.model_selection import train_test_split\n",
    "from sklearn.neural_network import MLPClassifier\n",
    "\n",
    "iris = load_iris()\n",
    "X_train_full, X_test, y_train_full, y_test = train_test_split(\n",
    "    iris.data, iris.target, test_size=0.1, random_state=42)\n",
    "X_train, X_valid, y_train, y_valid = train_test_split(\n",
    "    X_train_full, y_train_full, test_size=0.1, random_state=42)\n",
    "\n",
    "mlp_clf = MLPClassifier(hidden_layer_sizes=[5], max_iter=10_000,\n",
    "                        random_state=42)\n",
    "pipeline = make_pipeline(StandardScaler(), mlp_clf)\n",
    "pipeline.fit(X_train, y_train)\n",
    "accuracy = pipeline.score(X_valid, y_valid)\n",
    "accuracy"
   ]
  },
  {
   "cell_type": "markdown",
   "metadata": {},
   "source": [
    "# Implementing MLPs with Keras\n",
    "## Building an Image Classifier Using the Sequential API\n",
    "### Using Keras to load the dataset"
   ]
  },
  {
   "cell_type": "markdown",
   "metadata": {},
   "source": [
    "Let's start by loading the fashion MNIST dataset. Keras has a number of functions to load popular datasets in `tf.keras.datasets`. The dataset is already split for you between a training set (60,000 images) and a test set (10,000 images), but it can be useful to split the training set further to have a validation set. We'll use 55,000 images for training, and 5,000 for validation."
   ]
  },
  {
   "cell_type": "code",
   "execution_count": 15,
   "metadata": {},
   "outputs": [],
   "source": [
    "import tensorflow as tf\n",
    "\n",
    "fashion_mnist = tf.keras.datasets.fashion_mnist.load_data()\n",
    "(X_train_full, y_train_full), (X_test, y_test) = fashion_mnist\n",
    "X_train, y_train = X_train_full[:-5000], y_train_full[:-5000]\n",
    "X_valid, y_valid = X_train_full[-5000:], y_train_full[-5000:]"
   ]
  },
  {
   "cell_type": "markdown",
   "metadata": {},
   "source": [
    "The training set contains 60,000 grayscale images, each 28x28 pixels:"
   ]
  },
  {
   "cell_type": "code",
   "execution_count": 16,
   "metadata": {},
   "outputs": [
    {
     "data": {
      "text/plain": [
       "(55000, 28, 28)"
      ]
     },
     "execution_count": 16,
     "metadata": {},
     "output_type": "execute_result"
    }
   ],
   "source": [
    "X_train.shape"
   ]
  },
  {
   "cell_type": "markdown",
   "metadata": {},
   "source": [
    "Each pixel intensity is represented as a byte (0 to 255):"
   ]
  },
  {
   "cell_type": "code",
   "execution_count": 17,
   "metadata": {},
   "outputs": [
    {
     "data": {
      "text/plain": [
       "dtype('uint8')"
      ]
     },
     "execution_count": 17,
     "metadata": {},
     "output_type": "execute_result"
    }
   ],
   "source": [
    "X_train.dtype"
   ]
  },
  {
   "cell_type": "markdown",
   "metadata": {},
   "source": [
    "Let's scale the pixel intensities down to the 0-1 range and convert them to floats, by dividing by 255:"
   ]
  },
  {
   "cell_type": "code",
   "execution_count": 18,
   "metadata": {},
   "outputs": [],
   "source": [
    "X_train, X_valid, X_test = X_train / 255., X_valid / 255., X_test / 255."
   ]
  },
  {
   "cell_type": "markdown",
   "metadata": {},
   "source": [
    "You can plot an image using Matplotlib's `imshow()` function, with a `'binary'`\n",
    " color map:"
   ]
  },
  {
   "cell_type": "code",
   "execution_count": 19,
   "metadata": {},
   "outputs": [
    {
     "data": {
      "image/png": "[encoded data removed]",
      "text/plain": [
       "<Figure size 640x480 with 1 Axes>"
      ]
     },
     "metadata": {},
     "output_type": "display_data"
    }
   ],
   "source": [
    "# extra code\n",
    "\n",
    "plt.imshow(X_train[0], cmap=\"binary\")\n",
    "plt.axis('off')\n",
    "plt.show()"
   ]
  },
  {
   "cell_type": "markdown",
   "metadata": {},
   "source": [
    "The labels are the class IDs (represented as uint8), from 0 to 9:"
   ]
  },
  {
   "cell_type": "code",
   "execution_count": 20,
   "metadata": {},
   "outputs": [
    {
     "data": {
      "text/plain": [
       "array([9, 0, 0, ..., 9, 0, 2], dtype=uint8)"
      ]
     },
     "execution_count": 20,
     "metadata": {},
     "output_type": "execute_result"
    }
   ],
   "source": [
    "y_train"
   ]
  },
  {
   "cell_type": "markdown",
   "metadata": {},
   "source": [
    "Here are the corresponding class names:"
   ]
  },
  {
   "cell_type": "code",
   "execution_count": 21,
   "metadata": {},
   "outputs": [],
   "source": [
    "class_names = [\"T-shirt/top\", \"Trouser\", \"Pullover\", \"Dress\", \"Coat\",\n",
    "               \"Sandal\", \"Shirt\", \"Sneaker\", \"Bag\", \"Ankle boot\"]"
   ]
  },
  {
   "cell_type": "markdown",
   "metadata": {},
   "source": [
    "So the first image in the training set is an ankle boot:"
   ]
  },
  {
   "cell_type": "code",
   "execution_count": 22,
   "metadata": {},
   "outputs": [
    {
     "data": {
      "text/plain": [
       "'Ankle boot'"
      ]
     },
     "execution_count": 22,
     "metadata": {},
     "output_type": "execute_result"
    }
   ],
   "source": [
    "class_names[y_train[0]]"
   ]
  },
  {
   "cell_type": "markdown",
   "metadata": {},
   "source": [
    "Let's take a look at a sample of the images in the dataset:"
   ]
  },
  {
   "cell_type": "code",
   "execution_count": 23,
   "metadata": {},
   "outputs": [
    {
     "data": {
      "image/png": "[encoded data removed]",
      "text/plain": [
       "<Figure size 1200x480 with 40 Axes>"
      ]
     },
     "metadata": {},
     "output_type": "display_data"
    }
   ],
   "source": [
    "# extra code – this cell generates and saves Figure 10–10\n",
    "\n",
    "n_rows = 4\n",
    "n_cols = 10\n",
    "plt.figure(figsize=(n_cols * 1.2, n_rows * 1.2))\n",
    "for row in range(n_rows):\n",
    "    for col in range(n_cols):\n",
    "        index = n_cols * row + col\n",
    "        plt.subplot(n_rows, n_cols, index + 1)\n",
    "        plt.imshow(X_train[index], cmap=\"binary\", interpolation=\"nearest\")\n",
    "        plt.axis('off')\n",
    "        plt.title(class_names[y_train[index]])\n",
    "plt.subplots_adjust(wspace=0.2, hspace=0.5)\n",
    "\n",
    "save_fig(\"fashion_mnist_plot\")\n",
    "plt.show()"
   ]
  },
  {
   "cell_type": "markdown",
   "metadata": {},
   "source": [
    "### Creating the model using the Sequential API"
   ]
  },
  {
   "cell_type": "code",
   "execution_count": 24,
   "metadata": {},
   "outputs": [
    {
     "name": "stderr",
     "output_type": "stream",
     "text": [
      "2023-02-08 15:26:02.811217: E tensorflow/stream_executor/cuda/cuda_driver.cc:265] failed call to cuInit: CUDA_ERROR_NO_DEVICE: no CUDA-capable device is detected\n",
      "2023-02-08 15:26:02.811256: I tensorflow/stream_executor/cuda/cuda_diagnostics.cc:169] retrieving CUDA diagnostic information for host: 927db9be23a9\n",
      "2023-02-08 15:26:02.811262: I tensorflow/stream_executor/cuda/cuda_diagnostics.cc:176] hostname: 927db9be23a9\n",
      "2023-02-08 15:26:02.811407: I tensorflow/stream_executor/cuda/cuda_diagnostics.cc:200] libcuda reported version is: NOT_FOUND: was unable to find libcuda.so DSO loaded into this program\n",
      "2023-02-08 15:26:02.811430: I tensorflow/stream_executor/cuda/cuda_diagnostics.cc:204] kernel reported version is: 520.61.5\n",
      "2023-02-08 15:26:02.812456: I tensorflow/core/platform/cpu_feature_guard.cc:193] This TensorFlow binary is optimized with oneAPI Deep Neural Network Library (oneDNN) to use the following CPU instructions in performance-critical operations:  AVX2 FMA\n",
      "To enable them in other operations, rebuild TensorFlow with the appropriate compiler flags.\n"
     ]
    }
   ],
   "source": [
    "tf.random.set_seed(42)\n",
    "model = tf.keras.Sequential()\n",
    "model.add(tf.keras.layers.InputLayer(input_shape=[28, 28]))\n",
    "model.add(tf.keras.layers.Flatten())\n",
    "model.add(tf.keras.layers.Dense(300, activation=\"relu\"))\n",
    "model.add(tf.keras.layers.Dense(100, activation=\"relu\"))\n",
    "model.add(tf.keras.layers.Dense(10, activation=\"softmax\"))"
   ]
  },
  {
   "cell_type": "code",
   "execution_count": 25,
   "metadata": {},
   "outputs": [],
   "source": [
    "# extra code – clear the session to reset the name counters\n",
    "tf.keras.backend.clear_session()\n",
    "tf.random.set_seed(42)\n",
    "\n",
    "model = tf.keras.Sequential([\n",
    "    tf.keras.layers.Flatten(input_shape=[28, 28]),\n",
    "    tf.keras.layers.Dense(300, activation=\"relu\"),\n",
    "    tf.keras.layers.Dense(100, activation=\"relu\"),\n",
    "    tf.keras.layers.Dense(10, activation=\"softmax\")\n",
    "])"
   ]
  },
  {
   "cell_type": "code",
   "execution_count": 26,
   "metadata": {},
   "outputs": [
    {
     "name": "stdout",
     "output_type": "stream",
     "text": [
      "Model: \"sequential\"\n",
      "_________________________________________________________________\n",
      " Layer (type)                Output Shape              Param #   \n",
      "=================================================================\n",
      " flatten (Flatten)           (None, 784)               0         \n",
      "                                                                 \n",
      " dense (Dense)               (None, 300)               235500    \n",
      "                                                                 \n",
      " dense_1 (Dense)             (None, 100)               30100     \n",
      "                                                                 \n",
      " dense_2 (Dense)             (None, 10)                1010      \n",
      "                                                                 \n",
      "=================================================================\n",
      "Total params: 266,610\n",
      "Trainable params: 266,610\n",
      "Non-trainable params: 0\n",
      "_________________________________________________________________\n"
     ]
    }
   ],
   "source": [
    "model.summary()"
   ]
  },
  {
   "cell_type": "code",
   "execution_count": 27,
   "metadata": {},
   "outputs": [
    {
     "name": "stdout",
     "output_type": "stream",
     "text": [
      "You must install pydot (`pip install pydot`) and install graphviz (see instructions at https://graphviz.gitlab.io/download/) for plot_model to work.\n"
     ]
    }
   ],
   "source": [
    "# extra code – another way to display the model's architecture\n",
    "tf.keras.utils.plot_model(model, \"my_fashion_mnist_model.png\", show_shapes=True)"
   ]
  },
  {
   "cell_type": "code",
   "execution_count": 28,
   "metadata": {},
   "outputs": [
    {
     "data": {
      "text/plain": [
       "[<keras.layers.reshaping.flatten.Flatten at 0x7f4e82e5ebe0>,\n",
       " <keras.layers.core.dense.Dense at 0x7f4e7b467280>,\n",
       " <keras.layers.core.dense.Dense at 0x7f4e7b44a760>,\n",
       " <keras.layers.core.dense.Dense at 0x7f4e7b44a790>]"
      ]
     },
     "execution_count": 28,
     "metadata": {},
     "output_type": "execute_result"
    }
   ],
   "source": [
    "model.layers"
   ]
  },
  {
   "cell_type": "code",
   "execution_count": 29,
   "metadata": {},
   "outputs": [
    {
     "data": {
      "text/plain": [
       "'dense'"
      ]
     },
     "execution_count": 29,
     "metadata": {},
     "output_type": "execute_result"
    }
   ],
   "source": [
    "hidden1 = model.layers[1]\n",
    "hidden1.name"
   ]
  },
  {
   "cell_type": "code",
   "execution_count": 30,
   "metadata": {},
   "outputs": [
    {
     "data": {
      "text/plain": [
       "True"
      ]
     },
     "execution_count": 30,
     "metadata": {},
     "output_type": "execute_result"
    }
   ],
   "source": [
    "model.get_layer('dense') is hidden1"
   ]
  },
  {
   "cell_type": "code",
   "execution_count": 31,
   "metadata": {},
   "outputs": [
    {
     "data": {
      "text/plain": [
       "array([[ 0.03433197,  0.01485861,  0.03710743, ..., -0.02293145,\n",
       "         0.04458016, -0.04779693],\n",
       "       [-0.01180252, -0.06356094, -0.07195424, ...,  0.00531369,\n",
       "        -0.0439579 , -0.00437625],\n",
       "       [ 0.04356807,  0.07012384, -0.06232975, ..., -0.00494867,\n",
       "        -0.00087547,  0.01959801],\n",
       "       ...,\n",
       "       [-0.06050884, -0.00336044, -0.03508398, ...,  0.00582114,\n",
       "        -0.00601776, -0.05768104],\n",
       "       [ 0.06842649,  0.00529846,  0.02147857, ..., -0.0549703 ,\n",
       "        -0.05875219, -0.00203201],\n",
       "       [ 0.06124023,  0.0432336 , -0.04424968, ...,  0.04837734,\n",
       "         0.02544607, -0.02512248]], dtype=float32)"
      ]
     },
     "execution_count": 31,
     "metadata": {},
     "output_type": "execute_result"
    }
   ],
   "source": [
    "weights, biases = hidden1.get_weights()\n",
    "weights"
   ]
  },
  {
   "cell_type": "code",
   "execution_count": 32,
   "metadata": {},
   "outputs": [
    {
     "data": {
      "text/plain": [
       "(784, 300)"
      ]
     },
     "execution_count": 32,
     "metadata": {},
     "output_type": "execute_result"
    }
   ],
   "source": [
    "weights.shape"
   ]
  },
  {
   "cell_type": "code",
   "execution_count": 33,
   "metadata": {},
   "outputs": [
    {
     "data": {
      "text/plain": [
       "array([0., 0., 0., 0., 0., 0., 0., 0., 0., 0., 0., 0., 0., 0., 0., 0., 0.,\n",
       "       0., 0., 0., 0., 0., 0., 0., 0., 0., 0., 0., 0., 0., 0., 0., 0., 0.,\n",
       "       0., 0., 0., 0., 0., 0., 0., 0., 0., 0., 0., 0., 0., 0., 0., 0., 0.,\n",
       "       0., 0., 0., 0., 0., 0., 0., 0., 0., 0., 0., 0., 0., 0., 0., 0., 0.,\n",
       "       0., 0., 0., 0., 0., 0., 0., 0., 0., 0., 0., 0., 0., 0., 0., 0., 0.,\n",
       "       0., 0., 0., 0., 0., 0., 0., 0., 0., 0., 0., 0., 0., 0., 0., 0., 0.,\n",
       "       0., 0., 0., 0., 0., 0., 0., 0., 0., 0., 0., 0., 0., 0., 0., 0., 0.,\n",
       "       0., 0., 0., 0., 0., 0., 0., 0., 0., 0., 0., 0., 0., 0., 0., 0., 0.,\n",
       "       0., 0., 0., 0., 0., 0., 0., 0., 0., 0., 0., 0., 0., 0., 0., 0., 0.,\n",
       "       0., 0., 0., 0., 0., 0., 0., 0., 0., 0., 0., 0., 0., 0., 0., 0., 0.,\n",
       "       0., 0., 0., 0., 0., 0., 0., 0., 0., 0., 0., 0., 0., 0., 0., 0., 0.,\n",
       "       0., 0., 0., 0., 0., 0., 0., 0., 0., 0., 0., 0., 0., 0., 0., 0., 0.,\n",
       "       0., 0., 0., 0., 0., 0., 0., 0., 0., 0., 0., 0., 0., 0., 0., 0., 0.,\n",
       "       0., 0., 0., 0., 0., 0., 0., 0., 0., 0., 0., 0., 0., 0., 0., 0., 0.,\n",
       "       0., 0., 0., 0., 0., 0., 0., 0., 0., 0., 0., 0., 0., 0., 0., 0., 0.,\n",
       "       0., 0., 0., 0., 0., 0., 0., 0., 0., 0., 0., 0., 0., 0., 0., 0., 0.,\n",
       "       0., 0., 0., 0., 0., 0., 0., 0., 0., 0., 0., 0., 0., 0., 0., 0., 0.,\n",
       "       0., 0., 0., 0., 0., 0., 0., 0., 0., 0., 0.], dtype=float32)"
      ]
     },
     "execution_count": 33,
     "metadata": {},
     "output_type": "execute_result"
    }
   ],
   "source": [
    "biases"
   ]
  },
  {
   "cell_type": "code",
   "execution_count": 34,
   "metadata": {},
   "outputs": [
    {
     "data": {
      "text/plain": [
       "(300,)"
      ]
     },
     "execution_count": 34,
     "metadata": {},
     "output_type": "execute_result"
    }
   ],
   "source": [
    "biases.shape"
   ]
  },
  {
   "cell_type": "markdown",
   "metadata": {},
   "source": [
    "### Compiling the model"
   ]
  },
  {
   "cell_type": "code",
   "execution_count": 35,
   "metadata": {},
   "outputs": [],
   "source": [
    "model.compile(loss=\"sparse_categorical_crossentropy\",\n",
    "              optimizer=\"sgd\",\n",
    "              metrics=[\"accuracy\"])"
   ]
  },
  {
   "cell_type": "markdown",
   "metadata": {},
   "source": [
    "This is equivalent to:"
   ]
  },
  {
   "cell_type": "code",
   "execution_count": 36,
   "metadata": {},
   "outputs": [],
   "source": [
    "# extra code – this cell is equivalent to the previous cell\n",
    "model.compile(loss=tf.keras.losses.sparse_categorical_crossentropy,\n",
    "              optimizer=tf.keras.optimizers.SGD(),\n",
    "              metrics=[tf.keras.metrics.sparse_categorical_accuracy])"
   ]
  },
  {
   "cell_type": "code",
   "execution_count": 37,
   "metadata": {},
   "outputs": [
    {
     "data": {
      "text/plain": [
       "array([[1., 0., 0., 0., 0., 0., 0., 0., 0., 0.],\n",
       "       [0., 0., 0., 0., 0., 1., 0., 0., 0., 0.],\n",
       "       [0., 1., 0., 0., 0., 0., 0., 0., 0., 0.],\n",
       "       [1., 0., 0., 0., 0., 0., 0., 0., 0., 0.]], dtype=float32)"
      ]
     },
     "execution_count": 37,
     "metadata": {},
     "output_type": "execute_result"
    }
   ],
   "source": [
    "# extra code – shows how to convert class ids to one-hot vectors\n",
    "tf.keras.utils.to_categorical([0, 5, 1, 0], num_classes=10)"
   ]
  },
  {
   "cell_type": "markdown",
   "metadata": {},
   "source": [
    "Note: it's important to set `num_classes` when the number of classes is greater than the maximum class id in the sample."
   ]
  },
  {
   "cell_type": "code",
   "execution_count": 38,
   "metadata": {},
   "outputs": [
    {
     "data": {
      "text/plain": [
       "array([0, 5, 1, 0])"
      ]
     },
     "execution_count": 38,
     "metadata": {},
     "output_type": "execute_result"
    }
   ],
   "source": [
    "# extra code – shows how to convert one-hot vectors to class ids\n",
    "np.argmax(\n",
    "    [[1., 0., 0., 0., 0., 0., 0., 0., 0., 0.],\n",
    "     [0., 0., 0., 0., 0., 1., 0., 0., 0., 0.],\n",
    "     [0., 1., 0., 0., 0., 0., 0., 0., 0., 0.],\n",
    "     [1., 0., 0., 0., 0., 0., 0., 0., 0., 0.]],\n",
    "    axis=1\n",
    ")"
   ]
  },
  {
   "cell_type": "markdown",
   "metadata": {},
   "source": [
    "### Training and evaluating the model"
   ]
  },
  {
   "cell_type": "code",
   "execution_count": 39,
   "metadata": {},
   "outputs": [
    {
     "name": "stdout",
     "output_type": "stream",
     "text": [
      "Epoch 1/30\n",
      "1719/1719 [==============================] - 2s 1ms/step - loss: 0.7253 - sparse_categorical_accuracy: 0.7594 - val_loss: 0.5068 - val_sparse_categorical_accuracy: 0.8252\n",
      "Epoch 2/30\n",
      "1719/1719 [==============================] - 2s 1ms/step - loss: 0.4899 - sparse_categorical_accuracy: 0.8294 - val_loss: 0.4686 - val_sparse_categorical_accuracy: 0.8306\n",
      "Epoch 3/30\n",
      "1719/1719 [==============================] - 2s 1ms/step - loss: 0.4437 - sparse_categorical_accuracy: 0.8439 - val_loss: 0.4280 - val_sparse_categorical_accuracy: 0.8494\n",
      "Epoch 4/30\n",
      "1719/1719 [==============================] - 2s 1ms/step - loss: 0.4189 - sparse_categorical_accuracy: 0.8543 - val_loss: 0.3977 - val_sparse_categorical_accuracy: 0.8602\n",
      "Epoch 5/30\n",
      "1719/1719 [==============================] - 2s 1ms/step - loss: 0.3980 - sparse_categorical_accuracy: 0.8610 - val_loss: 0.3916 - val_sparse_categorical_accuracy: 0.8588\n",
      "Epoch 6/30\n",
      "1719/1719 [==============================] - 2s 1ms/step - loss: 0.3818 - sparse_categorical_accuracy: 0.8657 - val_loss: 0.4049 - val_sparse_categorical_accuracy: 0.8568\n",
      "Epoch 7/30\n",
      "1719/1719 [==============================] - 2s 1ms/step - loss: 0.3688 - sparse_categorical_accuracy: 0.8702 - val_loss: 0.3720 - val_sparse_categorical_accuracy: 0.8678\n",
      "Epoch 8/30\n",
      "1719/1719 [==============================] - 2s 1ms/step - loss: 0.3569 - sparse_categorical_accuracy: 0.8747 - val_loss: 0.3782 - val_sparse_categorical_accuracy: 0.8602\n",
      "Epoch 9/30\n",
      "1719/1719 [==============================] - 2s 1ms/step - loss: 0.3457 - sparse_categorical_accuracy: 0.8787 - val_loss: 0.3486 - val_sparse_categorical_accuracy: 0.8722\n",
      "Epoch 10/30\n",
      "1719/1719 [==============================] - 2s 1ms/step - loss: 0.3355 - sparse_categorical_accuracy: 0.8812 - val_loss: 0.3574 - val_sparse_categorical_accuracy: 0.8712\n",
      "Epoch 11/30\n",
      "1719/1719 [==============================] - 2s 1ms/step - loss: 0.3264 - sparse_categorical_accuracy: 0.8841 - val_loss: 0.3659 - val_sparse_categorical_accuracy: 0.8658\n",
      "Epoch 12/30\n",
      "1719/1719 [==============================] - 2s 1ms/step - loss: 0.3186 - sparse_categorical_accuracy: 0.8856 - val_loss: 0.3463 - val_sparse_categorical_accuracy: 0.8724\n",
      "Epoch 13/30\n",
      "1719/1719 [==============================] - 2s 1ms/step - loss: 0.3106 - sparse_categorical_accuracy: 0.8902 - val_loss: 0.3275 - val_sparse_categorical_accuracy: 0.8808\n",
      "Epoch 14/30\n",
      "1719/1719 [==============================] - 2s 1ms/step - loss: 0.3034 - sparse_categorical_accuracy: 0.8927 - val_loss: 0.3397 - val_sparse_categorical_accuracy: 0.8794\n",
      "Epoch 15/30\n",
      "1719/1719 [==============================] - 2s 1ms/step - loss: 0.2971 - sparse_categorical_accuracy: 0.8949 - val_loss: 0.3356 - val_sparse_categorical_accuracy: 0.8770\n",
      "Epoch 16/30\n",
      "1719/1719 [==============================] - 2s 1ms/step - loss: 0.2898 - sparse_categorical_accuracy: 0.8960 - val_loss: 0.3310 - val_sparse_categorical_accuracy: 0.8794\n",
      "Epoch 17/30\n",
      "1719/1719 [==============================] - 2s 1ms/step - loss: 0.2850 - sparse_categorical_accuracy: 0.8968 - val_loss: 0.3309 - val_sparse_categorical_accuracy: 0.8768\n",
      "Epoch 18/30\n",
      "1719/1719 [==============================] - 2s 1ms/step - loss: 0.2790 - sparse_categorical_accuracy: 0.8994 - val_loss: 0.3258 - val_sparse_categorical_accuracy: 0.8818\n",
      "Epoch 19/30\n",
      "1719/1719 [==============================] - 2s 1ms/step - loss: 0.2741 - sparse_categorical_accuracy: 0.9020 - val_loss: 0.3563 - val_sparse_categorical_accuracy: 0.8644\n",
      "Epoch 20/30\n",
      "1719/1719 [==============================] - 2s 1ms/step - loss: 0.2690 - sparse_categorical_accuracy: 0.9036 - val_loss: 0.3202 - val_sparse_categorical_accuracy: 0.8842\n",
      "Epoch 21/30\n",
      "1719/1719 [==============================] - 3s 1ms/step - loss: 0.2642 - sparse_categorical_accuracy: 0.9042 - val_loss: 0.3159 - val_sparse_categorical_accuracy: 0.8862\n",
      "Epoch 22/30\n",
      "1719/1719 [==============================] - 2s 1ms/step - loss: 0.2588 - sparse_categorical_accuracy: 0.9061 - val_loss: 0.3137 - val_sparse_categorical_accuracy: 0.8848\n",
      "Epoch 23/30\n",
      "1719/1719 [==============================] - 2s 1ms/step - loss: 0.2544 - sparse_categorical_accuracy: 0.9090 - val_loss: 0.3395 - val_sparse_categorical_accuracy: 0.8762\n",
      "Epoch 24/30\n",
      "1719/1719 [==============================] - 2s 1ms/step - loss: 0.2493 - sparse_categorical_accuracy: 0.9105 - val_loss: 0.3208 - val_sparse_categorical_accuracy: 0.8820\n",
      "Epoch 25/30\n",
      "1719/1719 [==============================] - 2s 1ms/step - loss: 0.2455 - sparse_categorical_accuracy: 0.9114 - val_loss: 0.3229 - val_sparse_categorical_accuracy: 0.8776\n",
      "Epoch 26/30\n",
      "1719/1719 [==============================] - 2s 1ms/step - loss: 0.2419 - sparse_categorical_accuracy: 0.9138 - val_loss: 0.3119 - val_sparse_categorical_accuracy: 0.8876\n",
      "Epoch 27/30\n",
      "1719/1719 [==============================] - 2s 1ms/step - loss: 0.2363 - sparse_categorical_accuracy: 0.9145 - val_loss: 0.3239 - val_sparse_categorical_accuracy: 0.8822\n",
      "Epoch 28/30\n",
      "1719/1719 [==============================] - 2s 1ms/step - loss: 0.2337 - sparse_categorical_accuracy: 0.9160 - val_loss: 0.3131 - val_sparse_categorical_accuracy: 0.8862\n",
      "Epoch 29/30\n",
      "1719/1719 [==============================] - 2s 1ms/step - loss: 0.2295 - sparse_categorical_accuracy: 0.9164 - val_loss: 0.3165 - val_sparse_categorical_accuracy: 0.8866\n",
      "Epoch 30/30\n",
      "1719/1719 [==============================] - 2s 1ms/step - loss: 0.2259 - sparse_categorical_accuracy: 0.9195 - val_loss: 0.3118 - val_sparse_categorical_accuracy: 0.8906\n"
     ]
    }
   ],
   "source": [
    "history = model.fit(X_train, y_train, epochs=30,\n",
    "                    validation_data=(X_valid, y_valid))"
   ]
  },
  {
   "cell_type": "code",
   "execution_count": 40,
   "metadata": {},
   "outputs": [
    {
     "data": {
      "text/plain": [
       "{'verbose': 1, 'epochs': 30, 'steps': 1719}"
      ]
     },
     "execution_count": 40,
     "metadata": {},
     "output_type": "execute_result"
    }
   ],
   "source": [
    "history.params"
   ]
  },
  {
   "cell_type": "code",
   "execution_count": 41,
   "metadata": {},
   "outputs": [
    {
     "name": "stdout",
     "output_type": "stream",
     "text": [
      "[0, 1, 2, 3, 4, 5, 6, 7, 8, 9, 10, 11, 12, 13, 14, 15, 16, 17, 18, 19, 20, 21, 22, 23, 24, 25, 26, 27, 28, 29]\n"
     ]
    }
   ],
   "source": [
    "print(history.epoch)"
   ]
  },
  {
   "cell_type": "code",
   "execution_count": 42,
   "metadata": {},
   "outputs": [
    {
     "data": {
      "image/png": "[encoded data removed]",
      "text/plain": [
       "<Figure size 800x500 with 1 Axes>"
      ]
     },
     "metadata": {},
     "output_type": "display_data"
    }
   ],
   "source": [
    "import matplotlib.pyplot as plt\n",
    "import pandas as pd\n",
    "\n",
    "pd.DataFrame(history.history).plot(\n",
    "    figsize=(8, 5), xlim=[0, 29], ylim=[0, 1], grid=True, xlabel=\"Epoch\",\n",
    "    style=[\"r--\", \"r--.\", \"b-\", \"b-*\"])\n",
    "plt.legend(loc=\"lower left\")  # extra code\n",
    "save_fig(\"keras_learning_curves_plot\")  # extra code\n",
    "plt.show()"
   ]
  },
  {
   "cell_type": "code",
   "execution_count": 43,
   "metadata": {},
   "outputs": [
    {
     "data": {
      "image/png": "[encoded data removed]",
      "text/plain": [
       "<Figure size 800x500 with 1 Axes>"
      ]
     },
     "metadata": {},
     "output_type": "display_data"
    }
   ],
   "source": [
    "# extra code – shows how to shift the training curve by -1/2 epoch\n",
    "plt.figure(figsize=(8, 5))\n",
    "for key, style in zip(history.history, [\"r--\", \"r--.\", \"b-\", \"b-*\"]):\n",
    "    epochs = np.array(history.epoch) + (0 if key.startswith(\"val_\") else -0.5)\n",
    "    plt.plot(epochs, history.history[key], style, label=key)\n",
    "plt.xlabel(\"Epoch\")\n",
    "plt.axis([-0.5, 29, 0., 1])\n",
    "plt.legend(loc=\"lower left\")\n",
    "plt.grid()\n",
    "plt.show()"
   ]
  },
  {
   "cell_type": "code",
   "execution_count": 44,
   "metadata": {},
   "outputs": [
    {
     "name": "stdout",
     "output_type": "stream",
     "text": [
      "313/313 [==============================] - 0s 883us/step - loss: 0.3269 - sparse_categorical_accuracy: 0.8840\n"
     ]
    },
    {
     "data": {
      "text/plain": [
       "[0.3269249498844147, 0.8840000033378601]"
      ]
     },
     "execution_count": 44,
     "metadata": {},
     "output_type": "execute_result"
    }
   ],
   "source": [
    "model.evaluate(X_test, y_test)"
   ]
  },
  {
   "cell_type": "markdown",
   "metadata": {},
   "source": [
    "### Using the model to make predictions"
   ]
  },
  {
   "cell_type": "code",
   "execution_count": 45,
   "metadata": {},
   "outputs": [
    {
     "name": "stdout",
     "output_type": "stream",
     "text": [
      "1/1 [==============================] - 0s 52ms/step\n"
     ]
    },
    {
     "data": {
      "text/plain": [
       "array([[0.  , 0.  , 0.  , 0.  , 0.  , 0.01, 0.  , 0.02, 0.  , 0.97],\n",
       "       [0.  , 0.  , 1.  , 0.  , 0.  , 0.  , 0.  , 0.  , 0.  , 0.  ],\n",
       "       [0.  , 1.  , 0.  , 0.  , 0.  , 0.  , 0.  , 0.  , 0.  , 0.  ]],\n",
       "      dtype=float32)"
      ]
     },
     "execution_count": 45,
     "metadata": {},
     "output_type": "execute_result"
    }
   ],
   "source": [
    "X_new = X_test[:3]\n",
    "y_proba = model.predict(X_new)\n",
    "y_proba.round(2)"
   ]
  },
  {
   "cell_type": "code",
   "execution_count": 46,
   "metadata": {},
   "outputs": [
    {
     "data": {
      "text/plain": [
       "array([9, 2, 1])"
      ]
     },
     "execution_count": 46,
     "metadata": {},
     "output_type": "execute_result"
    }
   ],
   "source": [
    "y_pred = y_proba.argmax(axis=-1)\n",
    "y_pred"
   ]
  },
  {
   "cell_type": "code",
   "execution_count": 47,
   "metadata": {},
   "outputs": [
    {
     "data": {
      "text/plain": [
       "array(['Ankle boot', 'Pullover', 'Trouser'], dtype='<U11')"
      ]
     },
     "execution_count": 47,
     "metadata": {},
     "output_type": "execute_result"
    }
   ],
   "source": [
    "np.array(class_names)[y_pred]"
   ]
  },
  {
   "cell_type": "code",
   "execution_count": 48,
   "metadata": {},
   "outputs": [
    {
     "data": {
      "text/plain": [
       "array([9, 2, 1], dtype=uint8)"
      ]
     },
     "execution_count": 48,
     "metadata": {},
     "output_type": "execute_result"
    }
   ],
   "source": [
    "y_new = y_test[:3]\n",
    "y_new"
   ]
  },
  {
   "cell_type": "code",
   "execution_count": 49,
   "metadata": {},
   "outputs": [
    {
     "data": {
      "image/png": "[encoded data removed]",
      "text/plain": [
       "<Figure size 720x240 with 3 Axes>"
      ]
     },
     "metadata": {},
     "output_type": "display_data"
    }
   ],
   "source": [
    "# extra code – this cell generates and saves Figure 10–12\n",
    "plt.figure(figsize=(7.2, 2.4))\n",
    "for index, image in enumerate(X_new):\n",
    "    plt.subplot(1, 3, index + 1)\n",
    "    plt.imshow(image, cmap=\"binary\", interpolation=\"nearest\")\n",
    "    plt.axis('off')\n",
    "    plt.title(class_names[y_test[index]])\n",
    "plt.subplots_adjust(wspace=0.2, hspace=0.5)\n",
    "save_fig('fashion_mnist_images_plot', tight_layout=False)\n",
    "plt.show()"
   ]
  },
  {
   "cell_type": "markdown",
   "metadata": {},
   "source": [
    "## Building a Regression MLP Using the Sequential API"
   ]
  },
  {
   "cell_type": "markdown",
   "metadata": {},
   "source": [
    "Let's load, split and scale the California housing dataset (the original one, not the modified one as in chapter 2):"
   ]
  },
  {
   "cell_type": "code",
   "execution_count": 50,
   "metadata": {},
   "outputs": [],
   "source": [
    "# extra code – load and split the California housing dataset, like earlier\n",
    "housing = fetch_california_housing()\n",
    "X_train_full, X_test, y_train_full, y_test = train_test_split(\n",
    "    housing.data, housing.target, random_state=42)\n",
    "X_train, X_valid, y_train, y_valid = train_test_split(\n",
    "    X_train_full, y_train_full, random_state=42)"
   ]
  },
  {
   "cell_type": "code",
   "execution_count": 51,
   "metadata": {},
   "outputs": [
    {
     "name": "stdout",
     "output_type": "stream",
     "text": [
      "Epoch 1/20\n",
      "363/363 [==============================] - 1s 1ms/step - loss: 0.9002 - root_mean_squared_error: 0.9488 - val_loss: 0.6114 - val_root_mean_squared_error: 0.7819\n",
      "Epoch 2/20\n",
      "363/363 [==============================] - 0s 1ms/step - loss: 0.3904 - root_mean_squared_error: 0.6248 - val_loss: 0.7321 - val_root_mean_squared_error: 0.8557\n",
      "Epoch 3/20\n",
      "363/363 [==============================] - 0s 1ms/step - loss: 0.3622 - root_mean_squared_error: 0.6018 - val_loss: 0.3573 - val_root_mean_squared_error: 0.5978\n",
      "Epoch 4/20\n",
      "363/363 [==============================] - 0s 1ms/step - loss: 0.3388 - root_mean_squared_error: 0.5821 - val_loss: 0.3205 - val_root_mean_squared_error: 0.5661\n",
      "Epoch 5/20\n",
      "363/363 [==============================] - 0s 1ms/step - loss: 0.3248 - root_mean_squared_error: 0.5700 - val_loss: 0.3712 - val_root_mean_squared_error: 0.6093\n",
      "Epoch 6/20\n",
      "363/363 [==============================] - 0s 1ms/step - loss: 0.3141 - root_mean_squared_error: 0.5605 - val_loss: 0.3172 - val_root_mean_squared_error: 0.5632\n",
      "Epoch 7/20\n",
      "363/363 [==============================] - 0s 1ms/step - loss: 0.3120 - root_mean_squared_error: 0.5586 - val_loss: 0.3308 - val_root_mean_squared_error: 0.5751\n",
      "Epoch 8/20\n",
      "363/363 [==============================] - 0s 1ms/step - loss: 0.3017 - root_mean_squared_error: 0.5493 - val_loss: 0.3197 - val_root_mean_squared_error: 0.5655\n",
      "Epoch 9/20\n",
      "363/363 [==============================] - 0s 1ms/step - loss: 0.2970 - root_mean_squared_error: 0.5450 - val_loss: 0.4206 - val_root_mean_squared_error: 0.6486\n",
      "Epoch 10/20\n",
      "363/363 [==============================] - 0s 1ms/step - loss: 0.2946 - root_mean_squared_error: 0.5427 - val_loss: 1.2671 - val_root_mean_squared_error: 1.1256\n",
      "Epoch 11/20\n",
      "363/363 [==============================] - 0s 1ms/step - loss: 0.2952 - root_mean_squared_error: 0.5433 - val_loss: 0.3050 - val_root_mean_squared_error: 0.5523\n",
      "Epoch 12/20\n",
      "363/363 [==============================] - 0s 1ms/step - loss: 0.2966 - root_mean_squared_error: 0.5446 - val_loss: 1.4085 - val_root_mean_squared_error: 1.1868\n",
      "Epoch 13/20\n",
      "363/363 [==============================] - 0s 1ms/step - loss: 0.2882 - root_mean_squared_error: 0.5368 - val_loss: 0.2812 - val_root_mean_squared_error: 0.5303\n",
      "Epoch 14/20\n",
      "363/363 [==============================] - 0s 1ms/step - loss: 0.2813 - root_mean_squared_error: 0.5304 - val_loss: 0.3322 - val_root_mean_squared_error: 0.5764\n",
      "Epoch 15/20\n",
      "363/363 [==============================] - 0s 1ms/step - loss: 0.2822 - root_mean_squared_error: 0.5312 - val_loss: 0.6733 - val_root_mean_squared_error: 0.8205\n",
      "Epoch 16/20\n",
      "363/363 [==============================] - 0s 1ms/step - loss: 0.2811 - root_mean_squared_error: 0.5302 - val_loss: 0.4941 - val_root_mean_squared_error: 0.7030\n",
      "Epoch 17/20\n",
      "363/363 [==============================] - 0s 1ms/step - loss: 0.2785 - root_mean_squared_error: 0.5277 - val_loss: 0.5164 - val_root_mean_squared_error: 0.7186\n",
      "Epoch 18/20\n",
      "363/363 [==============================] - 0s 1ms/step - loss: 0.2721 - root_mean_squared_error: 0.5216 - val_loss: 0.2777 - val_root_mean_squared_error: 0.5269\n",
      "Epoch 19/20\n",
      "363/363 [==============================] - 0s 1ms/step - loss: 0.2691 - root_mean_squared_error: 0.5187 - val_loss: 0.3401 - val_root_mean_squared_error: 0.5832\n",
      "Epoch 20/20\n",
      "363/363 [==============================] - 0s 994us/step - loss: 0.2698 - root_mean_squared_error: 0.5194 - val_loss: 0.3149 - val_root_mean_squared_error: 0.5612\n",
      "162/162 [==============================] - 0s 674us/step - loss: 0.2773 - root_mean_squared_error: 0.5266\n",
      "1/1 [==============================] - 0s 42ms/step\n"
     ]
    }
   ],
   "source": [
    "tf.random.set_seed(42)\n",
    "norm_layer = tf.keras.layers.Normalization(input_shape=X_train.shape[1:])\n",
    "model = tf.keras.Sequential([\n",
    "    norm_layer,\n",
    "    tf.keras.layers.Dense(50, activation=\"relu\"),\n",
    "    tf.keras.layers.Dense(50, activation=\"relu\"),\n",
    "    tf.keras.layers.Dense(50, activation=\"relu\"),\n",
    "    tf.keras.layers.Dense(1)\n",
    "])\n",
    "optimizer = tf.keras.optimizers.Adam(learning_rate=1e-3)\n",
    "model.compile(loss=\"mse\", optimizer=optimizer, metrics=[\"RootMeanSquaredError\"])\n",
    "norm_layer.adapt(X_train)\n",
    "history = model.fit(X_train, y_train, epochs=20,\n",
    "                    validation_data=(X_valid, y_valid))\n",
    "mse_test, rmse_test = model.evaluate(X_test, y_test)\n",
    "X_new = X_test[:3]\n",
    "y_pred = model.predict(X_new)"
   ]
  },
  {
   "cell_type": "code",
   "execution_count": 52,
   "metadata": {},
   "outputs": [
    {
     "data": {
      "text/plain": [
       "0.5265914797782898"
      ]
     },
     "execution_count": 52,
     "metadata": {},
     "output_type": "execute_result"
    }
   ],
   "source": [
    "rmse_test"
   ]
  },
  {
   "cell_type": "code",
   "execution_count": 53,
   "metadata": {},
   "outputs": [
    {
     "data": {
      "text/plain": [
       "array([[0.56940186],\n",
       "       [1.2746515 ],\n",
       "       [5.0453153 ]], dtype=float32)"
      ]
     },
     "execution_count": 53,
     "metadata": {},
     "output_type": "execute_result"
    }
   ],
   "source": [
    "y_pred"
   ]
  },
  {
   "cell_type": "markdown",
   "metadata": {},
   "source": [
    "## Building Complex Models Using the Functional API"
   ]
  },
  {
   "cell_type": "markdown",
   "metadata": {},
   "source": [
    "Not all neural network models are simply sequential. Some may have complex topologies. Some may have multiple inputs and/or multiple outputs. For example, a Wide & Deep neural network (see [paper](https://ai.google/research/pubs/pub45413)) connects all or part of the inputs directly to the output layer."
   ]
  },
  {
   "cell_type": "code",
   "execution_count": 54,
   "metadata": {},
   "outputs": [],
   "source": [
    "# extra code – reset the name counters and make the code reproducible\n",
    "tf.keras.backend.clear_session()\n",
    "tf.random.set_seed(42)"
   ]
  },
  {
   "cell_type": "code",
   "execution_count": 55,
   "metadata": {},
   "outputs": [],
   "source": [
    "normalization_layer = tf.keras.layers.Normalization()\n",
    "hidden_layer1 = tf.keras.layers.Dense(30, activation=\"relu\")\n",
    "hidden_layer2 = tf.keras.layers.Dense(30, activation=\"relu\")\n",
    "concat_layer = tf.keras.layers.Concatenate()\n",
    "output_layer = tf.keras.layers.Dense(1)\n",
    "\n",
    "input_ = tf.keras.layers.Input(shape=X_train.shape[1:])\n",
    "normalized = normalization_layer(input_)\n",
    "hidden1 = hidden_layer1(normalized)\n",
    "hidden2 = hidden_layer2(hidden1)\n",
    "concat = concat_layer([normalized, hidden2])\n",
    "output = output_layer(concat)\n",
    "\n",
    "model = tf.keras.Model(inputs=[input_], outputs=[output])"
   ]
  },
  {
   "cell_type": "code",
   "execution_count": 56,
   "metadata": {},
   "outputs": [
    {
     "name": "stdout",
     "output_type": "stream",
     "text": [
      "Model: \"model\"\n",
      "__________________________________________________________________________________________________\n",
      " Layer (type)                   Output Shape         Param #     Connected to                     \n",
      "==================================================================================================\n",
      " input_1 (InputLayer)           [(None, 8)]          0           []                               \n",
      "                                                                                                  \n",
      " normalization (Normalization)  (None, 8)            17          ['input_1[0][0]']                \n",
      "                                                                                                  \n",
      " dense (Dense)                  (None, 30)           270         ['normalization[0][0]']          \n",
      "                                                                                                  \n",
      " dense_1 (Dense)                (None, 30)           930         ['dense[0][0]']                  \n",
      "                                                                                                  \n",
      " concatenate (Concatenate)      (None, 38)           0           ['normalization[0][0]',          \n",
      "                                                                  'dense_1[0][0]']                \n",
      "                                                                                                  \n",
      " dense_2 (Dense)                (None, 1)            39          ['concatenate[0][0]']            \n",
      "                                                                                                  \n",
      "==================================================================================================\n",
      "Total params: 1,256\n",
      "Trainable params: 1,239\n",
      "Non-trainable params: 17\n",
      "__________________________________________________________________________________________________\n"
     ]
    }
   ],
   "source": [
    "model.summary()"
   ]
  },
  {
   "cell_type": "code",
   "execution_count": 57,
   "metadata": {},
   "outputs": [
    {
     "name": "stdout",
     "output_type": "stream",
     "text": [
      "Epoch 1/20\n",
      "363/363 [==============================] - 1s 1ms/step - loss: 1.4353 - root_mean_squared_error: 1.1980 - val_loss: 0.6653 - val_root_mean_squared_error: 0.8156\n",
      "Epoch 2/20\n",
      "363/363 [==============================] - 0s 1ms/step - loss: 0.4834 - root_mean_squared_error: 0.6953 - val_loss: 0.4720 - val_root_mean_squared_error: 0.6870\n",
      "Epoch 3/20\n",
      "363/363 [==============================] - 0s 1ms/step - loss: 0.4048 - root_mean_squared_error: 0.6362 - val_loss: 0.4456 - val_root_mean_squared_error: 0.6675\n",
      "Epoch 4/20\n",
      "363/363 [==============================] - 0s 989us/step - loss: 0.3866 - root_mean_squared_error: 0.6218 - val_loss: 0.6162 - val_root_mean_squared_error: 0.7850\n",
      "Epoch 5/20\n",
      "363/363 [==============================] - 0s 1ms/step - loss: 0.3755 - root_mean_squared_error: 0.6128 - val_loss: 0.6588 - val_root_mean_squared_error: 0.8116\n",
      "Epoch 6/20\n",
      "363/363 [==============================] - 0s 995us/step - loss: 0.3666 - root_mean_squared_error: 0.6055 - val_loss: 0.4256 - val_root_mean_squared_error: 0.6523\n",
      "Epoch 7/20\n",
      "363/363 [==============================] - 0s 1000us/step - loss: 0.3556 - root_mean_squared_error: 0.5963 - val_loss: 0.5015 - val_root_mean_squared_error: 0.7082\n",
      "Epoch 8/20\n",
      "363/363 [==============================] - 0s 1ms/step - loss: 0.3508 - root_mean_squared_error: 0.5923 - val_loss: 1.8457 - val_root_mean_squared_error: 1.3586\n",
      "Epoch 9/20\n",
      "363/363 [==============================] - 0s 979us/step - loss: 0.3483 - root_mean_squared_error: 0.5901 - val_loss: 2.5627 - val_root_mean_squared_error: 1.6009\n",
      "Epoch 10/20\n",
      "363/363 [==============================] - 0s 996us/step - loss: 0.3717 - root_mean_squared_error: 0.6097 - val_loss: 1.4753 - val_root_mean_squared_error: 1.2146\n",
      "Epoch 11/20\n",
      "363/363 [==============================] - 0s 978us/step - loss: 0.3401 - root_mean_squared_error: 0.5832 - val_loss: 0.6117 - val_root_mean_squared_error: 0.7821\n",
      "Epoch 12/20\n",
      "363/363 [==============================] - 0s 1ms/step - loss: 0.3397 - root_mean_squared_error: 0.5829 - val_loss: 0.3971 - val_root_mean_squared_error: 0.6301\n",
      "Epoch 13/20\n",
      "363/363 [==============================] - 0s 1ms/step - loss: 0.3276 - root_mean_squared_error: 0.5723 - val_loss: 0.5457 - val_root_mean_squared_error: 0.7387\n",
      "Epoch 14/20\n",
      "363/363 [==============================] - 0s 1ms/step - loss: 0.3235 - root_mean_squared_error: 0.5688 - val_loss: 0.5516 - val_root_mean_squared_error: 0.7427\n",
      "Epoch 15/20\n",
      "363/363 [==============================] - 0s 993us/step - loss: 0.3217 - root_mean_squared_error: 0.5672 - val_loss: 0.8467 - val_root_mean_squared_error: 0.9202\n",
      "Epoch 16/20\n",
      "363/363 [==============================] - 0s 983us/step - loss: 0.3193 - root_mean_squared_error: 0.5650 - val_loss: 0.6681 - val_root_mean_squared_error: 0.8174\n",
      "Epoch 17/20\n",
      "363/363 [==============================] - 0s 990us/step - loss: 0.3192 - root_mean_squared_error: 0.5650 - val_loss: 1.1895 - val_root_mean_squared_error: 1.0906\n",
      "Epoch 18/20\n",
      "363/363 [==============================] - 0s 1ms/step - loss: 0.3154 - root_mean_squared_error: 0.5616 - val_loss: 1.2089 - val_root_mean_squared_error: 1.0995\n",
      "Epoch 19/20\n",
      "363/363 [==============================] - 0s 1ms/step - loss: 0.3128 - root_mean_squared_error: 0.5593 - val_loss: 1.6279 - val_root_mean_squared_error: 1.2759\n",
      "Epoch 20/20\n",
      "363/363 [==============================] - 0s 981us/step - loss: 0.3172 - root_mean_squared_error: 0.5632 - val_loss: 0.5776 - val_root_mean_squared_error: 0.7600\n",
      "162/162 [==============================] - 0s 642us/step - loss: 0.3072 - root_mean_squared_error: 0.5543\n",
      "1/1 [==============================] - 0s 38ms/step\n"
     ]
    }
   ],
   "source": [
    "optimizer = tf.keras.optimizers.Adam(learning_rate=1e-3)\n",
    "model.compile(loss=\"mse\", optimizer=optimizer, metrics=[\"RootMeanSquaredError\"])\n",
    "normalization_layer.adapt(X_train)\n",
    "history = model.fit(X_train, y_train, epochs=20,\n",
    "                    validation_data=(X_valid, y_valid))\n",
    "mse_test = model.evaluate(X_test, y_test)\n",
    "y_pred = model.predict(X_new)"
   ]
  },
  {
   "cell_type": "markdown",
   "metadata": {},
   "source": [
    "What if you want to send different subsets of input features through the wide or deep paths? We will send 5 features (features 0 to 4), and 6 through the deep path (features 2 to 7). Note that 3 features will go through both (features 2, 3 and 4)."
   ]
  },
  {
   "cell_type": "code",
   "execution_count": 58,
   "metadata": {},
   "outputs": [],
   "source": [
    "tf.random.set_seed(42)  # extra code"
   ]
  },
  {
   "cell_type": "code",
   "execution_count": 59,
   "metadata": {},
   "outputs": [],
   "source": [
    "input_wide = tf.keras.layers.Input(shape=[5])  # features 0 to 4\n",
    "input_deep = tf.keras.layers.Input(shape=[6])  # features 2 to 7\n",
    "norm_layer_wide = tf.keras.layers.Normalization()\n",
    "norm_layer_deep = tf.keras.layers.Normalization()\n",
    "norm_wide = norm_layer_wide(input_wide)\n",
    "norm_deep = norm_layer_deep(input_deep)\n",
    "hidden1 = tf.keras.layers.Dense(30, activation=\"relu\")(norm_deep)\n",
    "hidden2 = tf.keras.layers.Dense(30, activation=\"relu\")(hidden1)\n",
    "concat = tf.keras.layers.concatenate([norm_wide, hidden2])\n",
    "output = tf.keras.layers.Dense(1)(concat)\n",
    "model = tf.keras.Model(inputs=[input_wide, input_deep], outputs=[output])"
   ]
  },
  {
   "cell_type": "code",
   "execution_count": 60,
   "metadata": {},
   "outputs": [
    {
     "name": "stdout",
     "output_type": "stream",
     "text": [
      "Epoch 1/20\n",
      "363/363 [==============================] - 1s 1ms/step - loss: 1.5302 - root_mean_squared_error: 1.2370 - val_loss: 0.9291 - val_root_mean_squared_error: 0.9639\n",
      "Epoch 2/20\n",
      "363/363 [==============================] - 0s 1ms/step - loss: 0.4989 - root_mean_squared_error: 0.7063 - val_loss: 1.9264 - val_root_mean_squared_error: 1.3879\n",
      "Epoch 3/20\n",
      "363/363 [==============================] - 0s 1ms/step - loss: 0.4456 - root_mean_squared_error: 0.6675 - val_loss: 0.6114 - val_root_mean_squared_error: 0.7819\n",
      "Epoch 4/20\n",
      "363/363 [==============================] - 0s 1ms/step - loss: 0.4066 - root_mean_squared_error: 0.6376 - val_loss: 1.2556 - val_root_mean_squared_error: 1.1206\n",
      "Epoch 5/20\n",
      "363/363 [==============================] - 0s 1ms/step - loss: 0.3948 - root_mean_squared_error: 0.6283 - val_loss: 2.8853 - val_root_mean_squared_error: 1.6986\n",
      "Epoch 6/20\n",
      "363/363 [==============================] - 0s 1ms/step - loss: 0.3982 - root_mean_squared_error: 0.6310 - val_loss: 1.4188 - val_root_mean_squared_error: 1.1911\n",
      "Epoch 7/20\n",
      "363/363 [==============================] - 0s 1ms/step - loss: 0.3776 - root_mean_squared_error: 0.6145 - val_loss: 0.4629 - val_root_mean_squared_error: 0.6804\n",
      "Epoch 8/20\n",
      "363/363 [==============================] - 0s 1ms/step - loss: 0.3613 - root_mean_squared_error: 0.6010 - val_loss: 0.8722 - val_root_mean_squared_error: 0.9339\n",
      "Epoch 9/20\n",
      "363/363 [==============================] - 0s 1ms/step - loss: 0.3565 - root_mean_squared_error: 0.5970 - val_loss: 0.6753 - val_root_mean_squared_error: 0.8218\n",
      "Epoch 10/20\n",
      "363/363 [==============================] - 0s 1ms/step - loss: 0.3560 - root_mean_squared_error: 0.5966 - val_loss: 1.4559 - val_root_mean_squared_error: 1.2066\n",
      "Epoch 11/20\n",
      "363/363 [==============================] - 0s 1ms/step - loss: 0.3513 - root_mean_squared_error: 0.5927 - val_loss: 0.4677 - val_root_mean_squared_error: 0.6839\n",
      "Epoch 12/20\n",
      "363/363 [==============================] - 0s 1ms/step - loss: 0.3592 - root_mean_squared_error: 0.5994 - val_loss: 1.6876 - val_root_mean_squared_error: 1.2991\n",
      "Epoch 13/20\n",
      "363/363 [==============================] - 0s 1ms/step - loss: 0.3513 - root_mean_squared_error: 0.5927 - val_loss: 0.5068 - val_root_mean_squared_error: 0.7119\n",
      "Epoch 14/20\n",
      "363/363 [==============================] - 0s 1ms/step - loss: 0.3425 - root_mean_squared_error: 0.5852 - val_loss: 0.5910 - val_root_mean_squared_error: 0.7687\n",
      "Epoch 15/20\n",
      "363/363 [==============================] - 0s 1ms/step - loss: 0.3403 - root_mean_squared_error: 0.5833 - val_loss: 0.4221 - val_root_mean_squared_error: 0.6497\n",
      "Epoch 16/20\n",
      "363/363 [==============================] - 0s 1ms/step - loss: 0.3372 - root_mean_squared_error: 0.5807 - val_loss: 0.6061 - val_root_mean_squared_error: 0.7786\n",
      "Epoch 17/20\n",
      "363/363 [==============================] - 0s 1ms/step - loss: 0.3361 - root_mean_squared_error: 0.5798 - val_loss: 0.4132 - val_root_mean_squared_error: 0.6428\n",
      "Epoch 18/20\n",
      "363/363 [==============================] - 0s 1ms/step - loss: 0.3333 - root_mean_squared_error: 0.5773 - val_loss: 1.8538 - val_root_mean_squared_error: 1.3615\n",
      "Epoch 19/20\n",
      "363/363 [==============================] - 0s 1ms/step - loss: 0.3416 - root_mean_squared_error: 0.5845 - val_loss: 1.7153 - val_root_mean_squared_error: 1.3097\n",
      "Epoch 20/20\n",
      "363/363 [==============================] - 0s 1ms/step - loss: 0.3456 - root_mean_squared_error: 0.5879 - val_loss: 1.1803 - val_root_mean_squared_error: 1.0864\n",
      "162/162 [==============================] - 0s 714us/step - loss: 0.3326 - root_mean_squared_error: 0.5767\n",
      "1/1 [==============================] - 0s 45ms/step\n"
     ]
    }
   ],
   "source": [
    "optimizer = tf.keras.optimizers.Adam(learning_rate=1e-3)\n",
    "model.compile(loss=\"mse\", optimizer=optimizer, metrics=[\"RootMeanSquaredError\"])\n",
    "\n",
    "X_train_wide, X_train_deep = X_train[:, :5], X_train[:, 2:]\n",
    "X_valid_wide, X_valid_deep = X_valid[:, :5], X_valid[:, 2:]\n",
    "X_test_wide, X_test_deep = X_test[:, :5], X_test[:, 2:]\n",
    "X_new_wide, X_new_deep = X_test_wide[:3], X_test_deep[:3]\n",
    "\n",
    "norm_layer_wide.adapt(X_train_wide)\n",
    "norm_layer_deep.adapt(X_train_deep)\n",
    "history = model.fit((X_train_wide, X_train_deep), y_train, epochs=20,\n",
    "                    validation_data=((X_valid_wide, X_valid_deep), y_valid))\n",
    "mse_test = model.evaluate((X_test_wide, X_test_deep), y_test)\n",
    "y_pred = model.predict((X_new_wide, X_new_deep))"
   ]
  },
  {
   "cell_type": "markdown",
   "metadata": {},
   "source": [
    "Adding an auxiliary output for regularization:"
   ]
  },
  {
   "cell_type": "code",
   "execution_count": 61,
   "metadata": {},
   "outputs": [],
   "source": [
    "tf.keras.backend.clear_session()\n",
    "tf.random.set_seed(42)"
   ]
  },
  {
   "cell_type": "code",
   "execution_count": 62,
   "metadata": {},
   "outputs": [],
   "source": [
    "input_wide = tf.keras.layers.Input(shape=[5])  # features 0 to 4\n",
    "input_deep = tf.keras.layers.Input(shape=[6])  # features 2 to 7\n",
    "norm_layer_wide = tf.keras.layers.Normalization()\n",
    "norm_layer_deep = tf.keras.layers.Normalization()\n",
    "norm_wide = norm_layer_wide(input_wide)\n",
    "norm_deep = norm_layer_deep(input_deep)\n",
    "hidden1 = tf.keras.layers.Dense(30, activation=\"relu\")(norm_deep)\n",
    "hidden2 = tf.keras.layers.Dense(30, activation=\"relu\")(hidden1)\n",
    "concat = tf.keras.layers.concatenate([norm_wide, hidden2])\n",
    "output = tf.keras.layers.Dense(1)(concat)\n",
    "aux_output = tf.keras.layers.Dense(1)(hidden2)\n",
    "model = tf.keras.Model(inputs=[input_wide, input_deep],\n",
    "                       outputs=[output, aux_output])"
   ]
  },
  {
   "cell_type": "code",
   "execution_count": 63,
   "metadata": {},
   "outputs": [],
   "source": [
    "optimizer = tf.keras.optimizers.Adam(learning_rate=1e-3)\n",
    "model.compile(loss=(\"mse\", \"mse\"), loss_weights=(0.9, 0.1), optimizer=optimizer,\n",
    "              metrics=[\"RootMeanSquaredError\"])"
   ]
  },
  {
   "cell_type": "code",
   "execution_count": 64,
   "metadata": {},
   "outputs": [
    {
     "name": "stdout",
     "output_type": "stream",
     "text": [
      "Epoch 1/20\n",
      "363/363 [==============================] - 1s 2ms/step - loss: 1.9101 - dense_2_loss: 1.9497 - dense_3_loss: 1.5546 - dense_2_root_mean_squared_error: 1.3963 - dense_3_root_mean_squared_error: 1.2468 - val_loss: 0.6837 - val_dense_2_loss: 0.6741 - val_dense_3_loss: 0.7707 - val_dense_2_root_mean_squared_error: 0.8210 - val_dense_3_root_mean_squared_error: 0.8779\n",
      "Epoch 2/20\n",
      "363/363 [==============================] - 0s 1ms/step - loss: 0.5633 - dense_2_loss: 0.5528 - dense_3_loss: 0.6580 - dense_2_root_mean_squared_error: 0.7435 - dense_3_root_mean_squared_error: 0.8112 - val_loss: 0.6797 - val_dense_2_loss: 0.6572 - val_dense_3_loss: 0.8820 - val_dense_2_root_mean_squared_error: 0.8107 - val_dense_3_root_mean_squared_error: 0.9391\n",
      "Epoch 3/20\n",
      "363/363 [==============================] - 0s 1ms/step - loss: 0.4851 - dense_2_loss: 0.4722 - dense_3_loss: 0.6009 - dense_2_root_mean_squared_error: 0.6872 - dense_3_root_mean_squared_error: 0.7752 - val_loss: 0.4695 - val_dense_2_loss: 0.4447 - val_dense_3_loss: 0.6925 - val_dense_2_root_mean_squared_error: 0.6669 - val_dense_3_root_mean_squared_error: 0.8322\n",
      "Epoch 4/20\n",
      "363/363 [==============================] - 0s 1ms/step - loss: 0.4524 - dense_2_loss: 0.4379 - dense_3_loss: 0.5831 - dense_2_root_mean_squared_error: 0.6617 - dense_3_root_mean_squared_error: 0.7636 - val_loss: 1.1356 - val_dense_2_loss: 1.1980 - val_dense_3_loss: 0.5739 - val_dense_2_root_mean_squared_error: 1.0945 - val_dense_3_root_mean_squared_error: 0.7576\n",
      "Epoch 5/20\n",
      "363/363 [==============================] - 0s 1ms/step - loss: 0.4259 - dense_2_loss: 0.4112 - dense_3_loss: 0.5588 - dense_2_root_mean_squared_error: 0.6412 - dense_3_root_mean_squared_error: 0.7475 - val_loss: 1.6071 - val_dense_2_loss: 1.6633 - val_dense_3_loss: 1.1014 - val_dense_2_root_mean_squared_error: 1.2897 - val_dense_3_root_mean_squared_error: 1.0495\n",
      "Epoch 6/20\n",
      "363/363 [==============================] - 0s 1ms/step - loss: 0.4208 - dense_2_loss: 0.4066 - dense_3_loss: 0.5484 - dense_2_root_mean_squared_error: 0.6377 - dense_3_root_mean_squared_error: 0.7406 - val_loss: 1.3434 - val_dense_2_loss: 1.4301 - val_dense_3_loss: 0.5637 - val_dense_2_root_mean_squared_error: 1.1959 - val_dense_3_root_mean_squared_error: 0.7508\n",
      "Epoch 7/20\n",
      "363/363 [==============================] - 0s 1ms/step - loss: 0.4007 - dense_2_loss: 0.3873 - dense_3_loss: 0.5214 - dense_2_root_mean_squared_error: 0.6223 - dense_3_root_mean_squared_error: 0.7221 - val_loss: 2.5248 - val_dense_2_loss: 2.4897 - val_dense_3_loss: 2.8405 - val_dense_2_root_mean_squared_error: 1.5779 - val_dense_3_root_mean_squared_error: 1.6854\n",
      "Epoch 8/20\n",
      "363/363 [==============================] - 0s 1ms/step - loss: 0.3947 - dense_2_loss: 0.3813 - dense_3_loss: 0.5150 - dense_2_root_mean_squared_error: 0.6175 - dense_3_root_mean_squared_error: 0.7176 - val_loss: 2.7498 - val_dense_2_loss: 2.8877 - val_dense_3_loss: 1.5089 - val_dense_2_root_mean_squared_error: 1.6993 - val_dense_3_root_mean_squared_error: 1.2284\n",
      "Epoch 9/20\n",
      "363/363 [==============================] - 0s 1ms/step - loss: 0.3897 - dense_2_loss: 0.3783 - dense_3_loss: 0.4922 - dense_2_root_mean_squared_error: 0.6151 - dense_3_root_mean_squared_error: 0.7016 - val_loss: 1.4434 - val_dense_2_loss: 1.3397 - val_dense_3_loss: 2.3764 - val_dense_2_root_mean_squared_error: 1.1575 - val_dense_3_root_mean_squared_error: 1.5416\n",
      "Epoch 10/20\n",
      "363/363 [==============================] - 0s 1ms/step - loss: 0.3781 - dense_2_loss: 0.3665 - dense_3_loss: 0.4825 - dense_2_root_mean_squared_error: 0.6054 - dense_3_root_mean_squared_error: 0.6946 - val_loss: 0.3549 - val_dense_2_loss: 0.3321 - val_dense_3_loss: 0.5598 - val_dense_2_root_mean_squared_error: 0.5763 - val_dense_3_root_mean_squared_error: 0.7482\n",
      "Epoch 11/20\n",
      "363/363 [==============================] - 0s 1ms/step - loss: 0.3613 - dense_2_loss: 0.3506 - dense_3_loss: 0.4570 - dense_2_root_mean_squared_error: 0.5921 - dense_3_root_mean_squared_error: 0.6760 - val_loss: 0.4293 - val_dense_2_loss: 0.4254 - val_dense_3_loss: 0.4646 - val_dense_2_root_mean_squared_error: 0.6522 - val_dense_3_root_mean_squared_error: 0.6816\n",
      "Epoch 12/20\n",
      "363/363 [==============================] - 0s 1ms/step - loss: 0.3626 - dense_2_loss: 0.3529 - dense_3_loss: 0.4498 - dense_2_root_mean_squared_error: 0.5941 - dense_3_root_mean_squared_error: 0.6707 - val_loss: 1.1725 - val_dense_2_loss: 1.1584 - val_dense_3_loss: 1.2992 - val_dense_2_root_mean_squared_error: 1.0763 - val_dense_3_root_mean_squared_error: 1.1398\n",
      "Epoch 13/20\n",
      "363/363 [==============================] - 0s 1ms/step - loss: 0.3606 - dense_2_loss: 0.3516 - dense_3_loss: 0.4417 - dense_2_root_mean_squared_error: 0.5930 - dense_3_root_mean_squared_error: 0.6646 - val_loss: 0.6213 - val_dense_2_loss: 0.6412 - val_dense_3_loss: 0.4421 - val_dense_2_root_mean_squared_error: 0.8008 - val_dense_3_root_mean_squared_error: 0.6649\n",
      "Epoch 14/20\n",
      "363/363 [==============================] - 0s 1ms/step - loss: 0.3513 - dense_2_loss: 0.3424 - dense_3_loss: 0.4314 - dense_2_root_mean_squared_error: 0.5852 - dense_3_root_mean_squared_error: 0.6568 - val_loss: 0.7677 - val_dense_2_loss: 0.6821 - val_dense_3_loss: 1.5380 - val_dense_2_root_mean_squared_error: 0.8259 - val_dense_3_root_mean_squared_error: 1.2402\n",
      "Epoch 15/20\n",
      "363/363 [==============================] - 0s 1ms/step - loss: 0.3500 - dense_2_loss: 0.3415 - dense_3_loss: 0.4268 - dense_2_root_mean_squared_error: 0.5844 - dense_3_root_mean_squared_error: 0.6533 - val_loss: 1.4530 - val_dense_2_loss: 1.3980 - val_dense_3_loss: 1.9476 - val_dense_2_root_mean_squared_error: 1.1824 - val_dense_3_root_mean_squared_error: 1.3956\n",
      "Epoch 16/20\n",
      "363/363 [==============================] - 0s 1ms/step - loss: 0.3515 - dense_2_loss: 0.3429 - dense_3_loss: 0.4294 - dense_2_root_mean_squared_error: 0.5856 - dense_3_root_mean_squared_error: 0.6553 - val_loss: 2.1868 - val_dense_2_loss: 2.2269 - val_dense_3_loss: 1.8256 - val_dense_2_root_mean_squared_error: 1.4923 - val_dense_3_root_mean_squared_error: 1.3511\n",
      "Epoch 17/20\n",
      "363/363 [==============================] - 0s 1ms/step - loss: 0.3593 - dense_2_loss: 0.3521 - dense_3_loss: 0.4239 - dense_2_root_mean_squared_error: 0.5934 - dense_3_root_mean_squared_error: 0.6510 - val_loss: 1.8782 - val_dense_2_loss: 1.9817 - val_dense_3_loss: 0.9462 - val_dense_2_root_mean_squared_error: 1.4077 - val_dense_3_root_mean_squared_error: 0.9727\n",
      "Epoch 18/20\n",
      "363/363 [==============================] - 0s 1ms/step - loss: 0.3507 - dense_2_loss: 0.3434 - dense_3_loss: 0.4158 - dense_2_root_mean_squared_error: 0.5860 - dense_3_root_mean_squared_error: 0.6448 - val_loss: 3.9204 - val_dense_2_loss: 3.6177 - val_dense_3_loss: 6.6441 - val_dense_2_root_mean_squared_error: 1.9020 - val_dense_3_root_mean_squared_error: 2.5776\n",
      "Epoch 19/20\n",
      "363/363 [==============================] - 0s 1ms/step - loss: 0.3580 - dense_2_loss: 0.3490 - dense_3_loss: 0.4390 - dense_2_root_mean_squared_error: 0.5908 - dense_3_root_mean_squared_error: 0.6626 - val_loss: 1.7496 - val_dense_2_loss: 1.7662 - val_dense_3_loss: 1.5998 - val_dense_2_root_mean_squared_error: 1.3290 - val_dense_3_root_mean_squared_error: 1.2648\n",
      "Epoch 20/20\n",
      "363/363 [==============================] - 0s 1ms/step - loss: 0.3511 - dense_2_loss: 0.3438 - dense_3_loss: 0.4171 - dense_2_root_mean_squared_error: 0.5863 - dense_3_root_mean_squared_error: 0.6459 - val_loss: 0.7558 - val_dense_2_loss: 0.7545 - val_dense_3_loss: 0.7672 - val_dense_2_root_mean_squared_error: 0.8686 - val_dense_3_root_mean_squared_error: 0.8759\n"
     ]
    }
   ],
   "source": [
    "norm_layer_wide.adapt(X_train_wide)\n",
    "norm_layer_deep.adapt(X_train_deep)\n",
    "history = model.fit(\n",
    "    (X_train_wide, X_train_deep), (y_train, y_train), epochs=20,\n",
    "    validation_data=((X_valid_wide, X_valid_deep), (y_valid, y_valid))\n",
    ")"
   ]
  },
  {
   "cell_type": "code",
   "execution_count": 65,
   "metadata": {},
   "outputs": [
    {
     "name": "stdout",
     "output_type": "stream",
     "text": [
      "162/162 [==============================] - 0s 846us/step - loss: 0.3398 - dense_2_loss: 0.3333 - dense_3_loss: 0.3982 - dense_2_root_mean_squared_error: 0.5773 - dense_3_root_mean_squared_error: 0.6310\n"
     ]
    }
   ],
   "source": [
    "eval_results = model.evaluate((X_test_wide, X_test_deep), (y_test, y_test))\n",
    "weighted_sum_of_losses, main_loss, aux_loss, main_rmse, aux_rmse = eval_results"
   ]
  },
  {
   "cell_type": "code",
   "execution_count": 66,
   "metadata": {},
   "outputs": [
    {
     "name": "stdout",
     "output_type": "stream",
     "text": [
      "WARNING:tensorflow:5 out of the last 5 calls to <function Model.make_predict_function.<locals>.predict_function at 0x7f4e7b773c10> triggered tf.function retracing. Tracing is expensive and the excessive number of tracings could be due to (1) creating @tf.function repeatedly in a loop, (2) passing tensors with different shapes, (3) passing Python objects instead of tensors. For (1), please define your @tf.function outside of the loop. For (2), @tf.function has reduce_retracing=True option that can avoid unnecessary retracing. For (3), please refer to https://www.tensorflow.org/guide/function#controlling_retracing and https://www.tensorflow.org/api_docs/python/tf/function for  more details.\n",
      "1/1 [==============================] - 0s 49ms/step\n"
     ]
    }
   ],
   "source": [
    "y_pred_main, y_pred_aux = model.predict((X_new_wide, X_new_deep))"
   ]
  },
  {
   "cell_type": "code",
   "execution_count": 67,
   "metadata": {},
   "outputs": [
    {
     "name": "stdout",
     "output_type": "stream",
     "text": [
      "1/1 [==============================] - 0s 13ms/step\n"
     ]
    }
   ],
   "source": [
    "y_pred_tuple = model.predict((X_new_wide, X_new_deep))\n",
    "y_pred = dict(zip(model.output_names, y_pred_tuple))"
   ]
  },
  {
   "cell_type": "markdown",
   "metadata": {},
   "source": [
    "## Using the Subclassing API to Build Dynamic Models"
   ]
  },
  {
   "cell_type": "code",
   "execution_count": 68,
   "metadata": {},
   "outputs": [],
   "source": [
    "class WideAndDeepModel(tf.keras.Model):\n",
    "    def __init__(self, units=30, activation=\"relu\", **kwargs):\n",
    "        super().__init__(**kwargs)  # needed to support naming the model\n",
    "        self.norm_layer_wide = tf.keras.layers.Normalization()\n",
    "        self.norm_layer_deep = tf.keras.layers.Normalization()\n",
    "        self.hidden1 = tf.keras.layers.Dense(units, activation=activation)\n",
    "        self.hidden2 = tf.keras.layers.Dense(units, activation=activation)\n",
    "        self.main_output = tf.keras.layers.Dense(1)\n",
    "        self.aux_output = tf.keras.layers.Dense(1)\n",
    "        \n",
    "    def call(self, inputs):\n",
    "        input_wide, input_deep = inputs\n",
    "        norm_wide = self.norm_layer_wide(input_wide)\n",
    "        norm_deep = self.norm_layer_deep(input_deep)\n",
    "        hidden1 = self.hidden1(norm_deep)\n",
    "        hidden2 = self.hidden2(hidden1)\n",
    "        concat = tf.keras.layers.concatenate([norm_wide, hidden2])\n",
    "        output = self.main_output(concat)\n",
    "        aux_output = self.aux_output(hidden2)\n",
    "        return output, aux_output\n",
    "\n",
    "tf.random.set_seed(42)  # extra code – just for reproducibility\n",
    "model = WideAndDeepModel(30, activation=\"relu\", name=\"my_cool_model\")"
   ]
  },
  {
   "cell_type": "code",
   "execution_count": 69,
   "metadata": {},
   "outputs": [
    {
     "name": "stdout",
     "output_type": "stream",
     "text": [
      "Epoch 1/10\n",
      "363/363 [==============================] - 1s 2ms/step - loss: 1.5420 - output_1_loss: 1.4623 - output_2_loss: 2.2594 - output_1_root_mean_squared_error: 1.2093 - output_2_root_mean_squared_error: 1.5031 - val_loss: 1.0220 - val_output_1_loss: 0.5183 - val_output_2_loss: 5.5553 - val_output_1_root_mean_squared_error: 0.7200 - val_output_2_root_mean_squared_error: 2.3570\n",
      "Epoch 2/10\n",
      "363/363 [==============================] - 0s 1ms/step - loss: 0.5201 - output_1_loss: 0.4868 - output_2_loss: 0.8203 - output_1_root_mean_squared_error: 0.6977 - output_2_root_mean_squared_error: 0.9057 - val_loss: 0.8795 - val_output_1_loss: 0.7262 - val_output_2_loss: 2.2599 - val_output_1_root_mean_squared_error: 0.8522 - val_output_2_root_mean_squared_error: 1.5033\n",
      "Epoch 3/10\n",
      "363/363 [==============================] - 0s 1ms/step - loss: 0.4566 - output_1_loss: 0.4369 - output_2_loss: 0.6336 - output_1_root_mean_squared_error: 0.6610 - output_2_root_mean_squared_error: 0.7960 - val_loss: 0.4597 - val_output_1_loss: 0.4165 - val_output_2_loss: 0.8486 - val_output_1_root_mean_squared_error: 0.6454 - val_output_2_root_mean_squared_error: 0.9212\n",
      "Epoch 4/10\n",
      "363/363 [==============================] - 0s 1ms/step - loss: 0.4270 - output_1_loss: 0.4096 - output_2_loss: 0.5831 - output_1_root_mean_squared_error: 0.6400 - output_2_root_mean_squared_error: 0.7636 - val_loss: 0.4134 - val_output_1_loss: 0.3932 - val_output_2_loss: 0.5948 - val_output_1_root_mean_squared_error: 0.6271 - val_output_2_root_mean_squared_error: 0.7712\n",
      "Epoch 5/10\n",
      "363/363 [==============================] - 0s 1ms/step - loss: 0.4105 - output_1_loss: 0.3950 - output_2_loss: 0.5502 - output_1_root_mean_squared_error: 0.6285 - output_2_root_mean_squared_error: 0.7417 - val_loss: 0.4010 - val_output_1_loss: 0.3883 - val_output_2_loss: 0.5155 - val_output_1_root_mean_squared_error: 0.6232 - val_output_2_root_mean_squared_error: 0.7180\n",
      "Epoch 6/10\n",
      "363/363 [==============================] - 0s 1ms/step - loss: 0.3931 - output_1_loss: 0.3786 - output_2_loss: 0.5240 - output_1_root_mean_squared_error: 0.6153 - output_2_root_mean_squared_error: 0.7239 - val_loss: 0.8348 - val_output_1_loss: 0.8385 - val_output_2_loss: 0.8014 - val_output_1_root_mean_squared_error: 0.9157 - val_output_2_root_mean_squared_error: 0.8952\n",
      "Epoch 7/10\n",
      "363/363 [==============================] - 0s 1ms/step - loss: 0.3890 - output_1_loss: 0.3757 - output_2_loss: 0.5087 - output_1_root_mean_squared_error: 0.6129 - output_2_root_mean_squared_error: 0.7132 - val_loss: 0.5988 - val_output_1_loss: 0.6007 - val_output_2_loss: 0.5821 - val_output_1_root_mean_squared_error: 0.7750 - val_output_2_root_mean_squared_error: 0.7629\n",
      "Epoch 8/10\n",
      "363/363 [==============================] - 0s 1ms/step - loss: 0.3760 - output_1_loss: 0.3634 - output_2_loss: 0.4887 - output_1_root_mean_squared_error: 0.6029 - output_2_root_mean_squared_error: 0.6991 - val_loss: 0.5502 - val_output_1_loss: 0.5483 - val_output_2_loss: 0.5674 - val_output_1_root_mean_squared_error: 0.7405 - val_output_2_root_mean_squared_error: 0.7533\n",
      "Epoch 9/10\n",
      "363/363 [==============================] - 0s 1ms/step - loss: 0.3670 - output_1_loss: 0.3553 - output_2_loss: 0.4722 - output_1_root_mean_squared_error: 0.5960 - output_2_root_mean_squared_error: 0.6872 - val_loss: 0.6748 - val_output_1_loss: 0.6635 - val_output_2_loss: 0.7772 - val_output_1_root_mean_squared_error: 0.8145 - val_output_2_root_mean_squared_error: 0.8816\n",
      "Epoch 10/10\n",
      "363/363 [==============================] - 0s 1ms/step - loss: 0.3691 - output_1_loss: 0.3586 - output_2_loss: 0.4635 - output_1_root_mean_squared_error: 0.5988 - output_2_root_mean_squared_error: 0.6808 - val_loss: 0.6886 - val_output_1_loss: 0.6999 - val_output_2_loss: 0.5876 - val_output_1_root_mean_squared_error: 0.8366 - val_output_2_root_mean_squared_error: 0.7665\n",
      "162/162 [==============================] - 0s 796us/step - loss: 0.3603 - output_1_loss: 0.3506 - output_2_loss: 0.4484 - output_1_root_mean_squared_error: 0.5921 - output_2_root_mean_squared_error: 0.6696\n",
      "WARNING:tensorflow:6 out of the last 7 calls to <function Model.make_predict_function.<locals>.predict_function at 0x7f4e78577d30> triggered tf.function retracing. Tracing is expensive and the excessive number of tracings could be due to (1) creating @tf.function repeatedly in a loop, (2) passing tensors with different shapes, (3) passing Python objects instead of tensors. For (1), please define your @tf.function outside of the loop. For (2), @tf.function has reduce_retracing=True option that can avoid unnecessary retracing. For (3), please refer to https://www.tensorflow.org/guide/function#controlling_retracing and https://www.tensorflow.org/api_docs/python/tf/function for  more details.\n",
      "1/1 [==============================] - 0s 54ms/step\n"
     ]
    }
   ],
   "source": [
    "optimizer = tf.keras.optimizers.Adam(learning_rate=1e-3)\n",
    "model.compile(loss=\"mse\", loss_weights=[0.9, 0.1], optimizer=optimizer,\n",
    "              metrics=[\"RootMeanSquaredError\"])\n",
    "model.norm_layer_wide.adapt(X_train_wide)\n",
    "model.norm_layer_deep.adapt(X_train_deep)\n",
    "history = model.fit(\n",
    "    (X_train_wide, X_train_deep), (y_train, y_train), epochs=10,\n",
    "    validation_data=((X_valid_wide, X_valid_deep), (y_valid, y_valid)))\n",
    "eval_results = model.evaluate((X_test_wide, X_test_deep), (y_test, y_test))\n",
    "weighted_sum_of_losses, main_loss, aux_loss, main_rmse, aux_rmse = eval_results\n",
    "y_pred_main, y_pred_aux = model.predict((X_new_wide, X_new_deep))"
   ]
  },
  {
   "cell_type": "markdown",
   "metadata": {},
   "source": [
    "## Saving and Restoring a Model"
   ]
  },
  {
   "cell_type": "code",
   "execution_count": 70,
   "metadata": {},
   "outputs": [],
   "source": [
    "# extra code – delete the directory, in case it already exists\n",
    "\n",
    "import shutil\n",
    "\n",
    "shutil.rmtree(\"my_keras_model\", ignore_errors=True)"
   ]
  },
  {
   "cell_type": "code",
   "execution_count": 71,
   "metadata": {},
   "outputs": [
    {
     "name": "stdout",
     "output_type": "stream",
     "text": [
      "INFO:tensorflow:Assets written to: my_keras_model/assets\n"
     ]
    }
   ],
   "source": [
    "model.save(\"my_keras_model\", save_format=\"tf\")"
   ]
  },
  {
   "cell_type": "code",
   "execution_count": 72,
   "metadata": {},
   "outputs": [
    {
     "name": "stdout",
     "output_type": "stream",
     "text": [
      "my_keras_model/assets\n",
      "my_keras_model/keras_metadata.pb\n",
      "my_keras_model/saved_model.pb\n",
      "my_keras_model/variables\n",
      "my_keras_model/variables/variables.data-00000-of-00001\n",
      "my_keras_model/variables/variables.index\n"
     ]
    }
   ],
   "source": [
    "# extra code – show the contents of the my_keras_model/ directory\n",
    "for path in sorted(Path(\"my_keras_model\").glob(\"**/*\")):\n",
    "    print(path)"
   ]
  },
  {
   "cell_type": "code",
   "execution_count": 73,
   "metadata": {},
   "outputs": [
    {
     "name": "stdout",
     "output_type": "stream",
     "text": [
      "1/1 [==============================] - 0s 47ms/step\n"
     ]
    }
   ],
   "source": [
    "model = tf.keras.models.load_model(\"my_keras_model\")\n",
    "y_pred_main, y_pred_aux = model.predict((X_new_wide, X_new_deep))"
   ]
  },
  {
   "cell_type": "code",
   "execution_count": 74,
   "metadata": {},
   "outputs": [],
   "source": [
    "model.save_weights(\"my_weights\")"
   ]
  },
  {
   "cell_type": "code",
   "execution_count": 75,
   "metadata": {},
   "outputs": [
    {
     "data": {
      "text/plain": [
       "<tensorflow.python.checkpoint.checkpoint.CheckpointLoadStatus at 0x7f4e7b80f5b0>"
      ]
     },
     "execution_count": 75,
     "metadata": {},
     "output_type": "execute_result"
    }
   ],
   "source": [
    "model.load_weights(\"my_weights\")"
   ]
  },
  {
   "cell_type": "code",
   "execution_count": 76,
   "metadata": {},
   "outputs": [
    {
     "name": "stdout",
     "output_type": "stream",
     "text": [
      "my_weights.data-00000-of-00001\n",
      "my_weights.index\n"
     ]
    }
   ],
   "source": [
    "# extra code – show the list of my_weights.* files\n",
    "for path in sorted(Path().glob(\"my_weights.*\")):\n",
    "    print(path)"
   ]
  },
  {
   "cell_type": "markdown",
   "metadata": {},
   "source": [
    "## Using Callbacks"
   ]
  },
  {
   "cell_type": "code",
   "execution_count": 77,
   "metadata": {},
   "outputs": [],
   "source": [
    "shutil.rmtree(\"my_checkpoints\", ignore_errors=True)  # extra code"
   ]
  },
  {
   "cell_type": "code",
   "execution_count": 78,
   "metadata": {},
   "outputs": [
    {
     "name": "stdout",
     "output_type": "stream",
     "text": [
      "Epoch 1/10\n",
      "363/363 [==============================] - 1s 2ms/step - loss: 0.3600 - output_1_loss: 0.3498 - output_2_loss: 0.4513 - output_1_root_mean_squared_error: 0.5914 - output_2_root_mean_squared_error: 0.6718 - val_loss: 0.5413 - val_output_1_loss: 0.5451 - val_output_2_loss: 0.5079 - val_output_1_root_mean_squared_error: 0.7383 - val_output_2_root_mean_squared_error: 0.7127\n",
      "Epoch 2/10\n",
      "363/363 [==============================] - 0s 1ms/step - loss: 0.3551 - output_1_loss: 0.3461 - output_2_loss: 0.4361 - output_1_root_mean_squared_error: 0.5883 - output_2_root_mean_squared_error: 0.6604 - val_loss: 1.3085 - val_output_1_loss: 1.3156 - val_output_2_loss: 1.2439 - val_output_1_root_mean_squared_error: 1.1470 - val_output_2_root_mean_squared_error: 1.1153\n",
      "Epoch 3/10\n",
      "363/363 [==============================] - 0s 1ms/step - loss: 0.3685 - output_1_loss: 0.3601 - output_2_loss: 0.4436 - output_1_root_mean_squared_error: 0.6001 - output_2_root_mean_squared_error: 0.6660 - val_loss: 0.4719 - val_output_1_loss: 0.4737 - val_output_2_loss: 0.4560 - val_output_1_root_mean_squared_error: 0.6883 - val_output_2_root_mean_squared_error: 0.6753\n",
      "Epoch 4/10\n",
      "363/363 [==============================] - 0s 1ms/step - loss: 0.3466 - output_1_loss: 0.3382 - output_2_loss: 0.4221 - output_1_root_mean_squared_error: 0.5815 - output_2_root_mean_squared_error: 0.6497 - val_loss: 0.5005 - val_output_1_loss: 0.4750 - val_output_2_loss: 0.7297 - val_output_1_root_mean_squared_error: 0.6892 - val_output_2_root_mean_squared_error: 0.8542\n",
      "Epoch 5/10\n",
      "363/363 [==============================] - 0s 1ms/step - loss: 0.3485 - output_1_loss: 0.3407 - output_2_loss: 0.4188 - output_1_root_mean_squared_error: 0.5837 - output_2_root_mean_squared_error: 0.6472 - val_loss: 1.8187 - val_output_1_loss: 1.8267 - val_output_2_loss: 1.7472 - val_output_1_root_mean_squared_error: 1.3515 - val_output_2_root_mean_squared_error: 1.3218\n",
      "Epoch 6/10\n",
      "363/363 [==============================] - 0s 1ms/step - loss: 0.3529 - output_1_loss: 0.3454 - output_2_loss: 0.4204 - output_1_root_mean_squared_error: 0.5877 - output_2_root_mean_squared_error: 0.6484 - val_loss: 1.0040 - val_output_1_loss: 0.8781 - val_output_2_loss: 2.1372 - val_output_1_root_mean_squared_error: 0.9371 - val_output_2_root_mean_squared_error: 1.4619\n",
      "Epoch 7/10\n",
      "363/363 [==============================] - 0s 1ms/step - loss: 0.3465 - output_1_loss: 0.3389 - output_2_loss: 0.4156 - output_1_root_mean_squared_error: 0.5821 - output_2_root_mean_squared_error: 0.6446 - val_loss: 0.9146 - val_output_1_loss: 0.9728 - val_output_2_loss: 0.3903 - val_output_1_root_mean_squared_error: 0.9863 - val_output_2_root_mean_squared_error: 0.6247\n",
      "Epoch 8/10\n",
      "363/363 [==============================] - 0s 1ms/step - loss: 0.3355 - output_1_loss: 0.3286 - output_2_loss: 0.3970 - output_1_root_mean_squared_error: 0.5733 - output_2_root_mean_squared_error: 0.6301 - val_loss: 1.7574 - val_output_1_loss: 1.7899 - val_output_2_loss: 1.4652 - val_output_1_root_mean_squared_error: 1.3379 - val_output_2_root_mean_squared_error: 1.2105\n",
      "Epoch 9/10\n",
      "363/363 [==============================] - 0s 1ms/step - loss: 0.3388 - output_1_loss: 0.3321 - output_2_loss: 0.3989 - output_1_root_mean_squared_error: 0.5763 - output_2_root_mean_squared_error: 0.6316 - val_loss: 1.7213 - val_output_1_loss: 1.8113 - val_output_2_loss: 0.9114 - val_output_1_root_mean_squared_error: 1.3458 - val_output_2_root_mean_squared_error: 0.9547\n",
      "Epoch 10/10\n",
      "363/363 [==============================] - 0s 1ms/step - loss: 0.3462 - output_1_loss: 0.3403 - output_2_loss: 0.3985 - output_1_root_mean_squared_error: 0.5834 - output_2_root_mean_squared_error: 0.6312 - val_loss: 1.8801 - val_output_1_loss: 1.8675 - val_output_2_loss: 1.9938 - val_output_1_root_mean_squared_error: 1.3666 - val_output_2_root_mean_squared_error: 1.4120\n"
     ]
    }
   ],
   "source": [
    "checkpoint_cb = tf.keras.callbacks.ModelCheckpoint(\"my_checkpoints\",\n",
    "                                                   save_weights_only=True)\n",
    "history = model.fit(\n",
    "    (X_train_wide, X_train_deep), (y_train, y_train), epochs=10,\n",
    "    validation_data=((X_valid_wide, X_valid_deep), (y_valid, y_valid)),\n",
    "    callbacks=[checkpoint_cb])"
   ]
  },
  {
   "cell_type": "code",
   "execution_count": 79,
   "metadata": {},
   "outputs": [
    {
     "name": "stdout",
     "output_type": "stream",
     "text": [
      "Epoch 1/100\n",
      "363/363 [==============================] - 0s 1ms/step - loss: 0.3404 - output_1_loss: 0.3339 - output_2_loss: 0.3994 - output_1_root_mean_squared_error: 0.5778 - output_2_root_mean_squared_error: 0.6320 - val_loss: 0.9181 - val_output_1_loss: 0.9299 - val_output_2_loss: 0.8126 - val_output_1_root_mean_squared_error: 0.9643 - val_output_2_root_mean_squared_error: 0.9014\n",
      "Epoch 2/100\n",
      "363/363 [==============================] - 0s 1ms/step - loss: 0.3340 - output_1_loss: 0.3277 - output_2_loss: 0.3915 - output_1_root_mean_squared_error: 0.5724 - output_2_root_mean_squared_error: 0.6257 - val_loss: 0.8373 - val_output_1_loss: 0.8650 - val_output_2_loss: 0.5883 - val_output_1_root_mean_squared_error: 0.9301 - val_output_2_root_mean_squared_error: 0.7670\n",
      "Epoch 3/100\n",
      "363/363 [==============================] - 0s 1ms/step - loss: 0.3349 - output_1_loss: 0.3290 - output_2_loss: 0.3879 - output_1_root_mean_squared_error: 0.5736 - output_2_root_mean_squared_error: 0.6228 - val_loss: 0.3124 - val_output_1_loss: 0.3058 - val_output_2_loss: 0.3725 - val_output_1_root_mean_squared_error: 0.5529 - val_output_2_root_mean_squared_error: 0.6103\n",
      "Epoch 4/100\n",
      "363/363 [==============================] - 0s 1ms/step - loss: 0.3254 - output_1_loss: 0.3190 - output_2_loss: 0.3827 - output_1_root_mean_squared_error: 0.5648 - output_2_root_mean_squared_error: 0.6186 - val_loss: 0.3397 - val_output_1_loss: 0.3309 - val_output_2_loss: 0.4187 - val_output_1_root_mean_squared_error: 0.5752 - val_output_2_root_mean_squared_error: 0.6471\n",
      "Epoch 5/100\n",
      "363/363 [==============================] - 0s 1ms/step - loss: 0.3247 - output_1_loss: 0.3187 - output_2_loss: 0.3791 - output_1_root_mean_squared_error: 0.5645 - output_2_root_mean_squared_error: 0.6157 - val_loss: 0.3608 - val_output_1_loss: 0.3602 - val_output_2_loss: 0.3656 - val_output_1_root_mean_squared_error: 0.6002 - val_output_2_root_mean_squared_error: 0.6046\n",
      "Epoch 6/100\n",
      "363/363 [==============================] - 0s 1ms/step - loss: 0.3209 - output_1_loss: 0.3149 - output_2_loss: 0.3749 - output_1_root_mean_squared_error: 0.5612 - output_2_root_mean_squared_error: 0.6123 - val_loss: 0.6292 - val_output_1_loss: 0.6268 - val_output_2_loss: 0.6516 - val_output_1_root_mean_squared_error: 0.7917 - val_output_2_root_mean_squared_error: 0.8072\n",
      "Epoch 7/100\n",
      "363/363 [==============================] - 0s 1ms/step - loss: 0.3236 - output_1_loss: 0.3176 - output_2_loss: 0.3773 - output_1_root_mean_squared_error: 0.5636 - output_2_root_mean_squared_error: 0.6143 - val_loss: 0.6153 - val_output_1_loss: 0.6356 - val_output_2_loss: 0.4332 - val_output_1_root_mean_squared_error: 0.7972 - val_output_2_root_mean_squared_error: 0.6581\n",
      "Epoch 8/100\n",
      "363/363 [==============================] - 0s 1ms/step - loss: 0.3198 - output_1_loss: 0.3140 - output_2_loss: 0.3722 - output_1_root_mean_squared_error: 0.5603 - output_2_root_mean_squared_error: 0.6100 - val_loss: 1.2893 - val_output_1_loss: 1.3203 - val_output_2_loss: 1.0096 - val_output_1_root_mean_squared_error: 1.1491 - val_output_2_root_mean_squared_error: 1.0048\n",
      "Epoch 9/100\n",
      "363/363 [==============================] - 0s 1ms/step - loss: 0.3220 - output_1_loss: 0.3165 - output_2_loss: 0.3717 - output_1_root_mean_squared_error: 0.5626 - output_2_root_mean_squared_error: 0.6096 - val_loss: 0.8862 - val_output_1_loss: 0.9363 - val_output_2_loss: 0.4358 - val_output_1_root_mean_squared_error: 0.9676 - val_output_2_root_mean_squared_error: 0.6601\n",
      "Epoch 10/100\n",
      "363/363 [==============================] - 0s 1ms/step - loss: 0.3256 - output_1_loss: 0.3204 - output_2_loss: 0.3723 - output_1_root_mean_squared_error: 0.5661 - output_2_root_mean_squared_error: 0.6102 - val_loss: 0.9545 - val_output_1_loss: 0.9472 - val_output_2_loss: 1.0201 - val_output_1_root_mean_squared_error: 0.9732 - val_output_2_root_mean_squared_error: 1.0100\n",
      "Epoch 11/100\n",
      "363/363 [==============================] - 0s 1ms/step - loss: 0.3170 - output_1_loss: 0.3112 - output_2_loss: 0.3689 - output_1_root_mean_squared_error: 0.5579 - output_2_root_mean_squared_error: 0.6074 - val_loss: 0.3358 - val_output_1_loss: 0.3307 - val_output_2_loss: 0.3820 - val_output_1_root_mean_squared_error: 0.5751 - val_output_2_root_mean_squared_error: 0.6180\n",
      "Epoch 12/100\n",
      "363/363 [==============================] - 0s 1ms/step - loss: 0.3195 - output_1_loss: 0.3140 - output_2_loss: 0.3691 - output_1_root_mean_squared_error: 0.5604 - output_2_root_mean_squared_error: 0.6075 - val_loss: 0.7663 - val_output_1_loss: 0.7633 - val_output_2_loss: 0.7926 - val_output_1_root_mean_squared_error: 0.8737 - val_output_2_root_mean_squared_error: 0.8903\n",
      "Epoch 13/100\n",
      "363/363 [==============================] - 0s 1ms/step - loss: 0.3173 - output_1_loss: 0.3117 - output_2_loss: 0.3677 - output_1_root_mean_squared_error: 0.5583 - output_2_root_mean_squared_error: 0.6064 - val_loss: 0.3437 - val_output_1_loss: 0.3427 - val_output_2_loss: 0.3523 - val_output_1_root_mean_squared_error: 0.5854 - val_output_2_root_mean_squared_error: 0.5935\n"
     ]
    }
   ],
   "source": [
    "early_stopping_cb = tf.keras.callbacks.EarlyStopping(patience=10,\n",
    "                                                     restore_best_weights=True)\n",
    "history = model.fit(\n",
    "    (X_train_wide, X_train_deep), (y_train, y_train), epochs=100,\n",
    "    validation_data=((X_valid_wide, X_valid_deep), (y_valid, y_valid)),\n",
    "    callbacks=[checkpoint_cb, early_stopping_cb])"
   ]
  },
  {
   "cell_type": "code",
   "execution_count": 80,
   "metadata": {},
   "outputs": [],
   "source": [
    "class PrintValTrainRatioCallback(tf.keras.callbacks.Callback):\n",
    "    def on_epoch_end(self, epoch, logs):\n",
    "        ratio = logs[\"val_loss\"] / logs[\"loss\"]\n",
    "        print(f\"Epoch={epoch}, val/train={ratio:.2f}\")"
   ]
  },
  {
   "cell_type": "code",
   "execution_count": 81,
   "metadata": {},
   "outputs": [
    {
     "name": "stdout",
     "output_type": "stream",
     "text": [
      "Epoch=0, val/train=0.97\n",
      "Epoch=1, val/train=1.63\n",
      "Epoch=2, val/train=0.96\n",
      "Epoch=3, val/train=1.09\n",
      "Epoch=4, val/train=3.46\n",
      "Epoch=5, val/train=3.14\n",
      "Epoch=6, val/train=1.69\n",
      "Epoch=7, val/train=2.91\n",
      "Epoch=8, val/train=1.46\n",
      "Epoch=9, val/train=2.18\n"
     ]
    }
   ],
   "source": [
    "val_train_ratio_cb = PrintValTrainRatioCallback()\n",
    "history = model.fit(\n",
    "    (X_train_wide, X_train_deep), (y_train, y_train), epochs=10,\n",
    "    validation_data=((X_valid_wide, X_valid_deep), (y_valid, y_valid)),\n",
    "    callbacks=[val_train_ratio_cb], verbose=0)"
   ]
  },
  {
   "cell_type": "markdown",
   "metadata": {},
   "source": [
    "## Using TensorBoard for Visualization"
   ]
  },
  {
   "cell_type": "markdown",
   "metadata": {},
   "source": [
    "TensorBoard is preinstalled on Colab, but not the `tensorboard-plugin-profile`, so let's install it:"
   ]
  },
  {
   "cell_type": "code",
   "execution_count": 82,
   "metadata": {},
   "outputs": [],
   "source": [
    "if \"google.colab\" in sys.modules:  # extra code\n",
    "    %pip install -q -U tensorboard-plugin-profile"
   ]
  },
  {
   "cell_type": "code",
   "execution_count": 83,
   "metadata": {
    "tags": []
   },
   "outputs": [],
   "source": [
    "shutil.rmtree(\"my_logs\", ignore_errors=True)"
   ]
  },
  {
   "cell_type": "code",
   "execution_count": 84,
   "metadata": {},
   "outputs": [],
   "source": [
    "from pathlib import Path\n",
    "from time import strftime\n",
    "\n",
    "def get_run_logdir(root_logdir=\"my_logs\"):\n",
    "    return Path(root_logdir) / strftime(\"run_%Y_%m_%d_%H_%M_%S\")\n",
    "\n",
    "run_logdir = get_run_logdir()"
   ]
  },
  {
   "cell_type": "code",
   "execution_count": 85,
   "metadata": {},
   "outputs": [],
   "source": [
    "# extra code – builds the first regression model we used earlier\n",
    "tf.keras.backend.clear_session()\n",
    "tf.random.set_seed(42)\n",
    "norm_layer = tf.keras.layers.Normalization(input_shape=X_train.shape[1:])\n",
    "model = tf.keras.Sequential([\n",
    "    norm_layer,\n",
    "    tf.keras.layers.Dense(30, activation=\"relu\"),\n",
    "    tf.keras.layers.Dense(30, activation=\"relu\"),\n",
    "    tf.keras.layers.Dense(1)\n",
    "])\n",
    "optimizer = tf.keras.optimizers.SGD(learning_rate=1e-3)\n",
    "model.compile(loss=\"mse\", optimizer=optimizer, metrics=[\"RootMeanSquaredError\"])\n",
    "norm_layer.adapt(X_train)"
   ]
  },
  {
   "cell_type": "code",
   "execution_count": 86,
   "metadata": {},
   "outputs": [
    {
     "name": "stdout",
     "output_type": "stream",
     "text": [
      "Epoch 1/20\n"
     ]
    },
    {
     "name": "stderr",
     "output_type": "stream",
     "text": [
      "2023-02-08 15:28:05.809985: I tensorflow/core/profiler/lib/profiler_session.cc:101] Profiler session initializing.\n",
      "2023-02-08 15:28:05.810010: I tensorflow/core/profiler/lib/profiler_session.cc:116] Profiler session started.\n",
      "2023-02-08 15:28:05.810757: I tensorflow/core/profiler/lib/profiler_session.cc:128] Profiler session tear down.\n"
     ]
    },
    {
     "name": "stdout",
     "output_type": "stream",
     "text": [
      "268/363 [=====================>........] - ETA: 0s - loss: 2.0316 - root_mean_squared_error: 1.4253"
     ]
    },
    {
     "name": "stderr",
     "output_type": "stream",
     "text": [
      "2023-02-08 15:28:06.148775: I tensorflow/core/profiler/lib/profiler_session.cc:101] Profiler session initializing.\n",
      "2023-02-08 15:28:06.148803: I tensorflow/core/profiler/lib/profiler_session.cc:116] Profiler session started.\n",
      "2023-02-08 15:28:06.229832: I tensorflow/core/profiler/lib/profiler_session.cc:67] Profiler session collecting data.\n",
      "2023-02-08 15:28:06.240972: I tensorflow/core/profiler/lib/profiler_session.cc:128] Profiler session tear down.\n",
      "2023-02-08 15:28:06.262556: I tensorflow/core/profiler/rpc/client/save_profile.cc:136] Creating directory: my_logs/run_2023_02_08_15_28_05/plugins/profile/2023_02_08_15_28_06\n",
      "\n",
      "2023-02-08 15:28:06.285313: I tensorflow/core/profiler/rpc/client/save_profile.cc:142] Dumped gzipped tool data for trace.json.gz to my_logs/run_2023_02_08_15_28_05/plugins/profile/2023_02_08_15_28_06/927db9be23a9.trace.json.gz\n",
      "2023-02-08 15:28:06.296192: I tensorflow/core/profiler/rpc/client/save_profile.cc:136] Creating directory: my_logs/run_2023_02_08_15_28_05/plugins/profile/2023_02_08_15_28_06\n",
      "\n",
      "2023-02-08 15:28:06.296285: I tensorflow/core/profiler/rpc/client/save_profile.cc:142] Dumped gzipped tool data for memory_profile.json.gz to my_logs/run_2023_02_08_15_28_05/plugins/profile/2023_02_08_15_28_06/927db9be23a9.memory_profile.json.gz\n",
      "2023-02-08 15:28:06.296647: I tensorflow/core/profiler/rpc/client/capture_profile.cc:251] Creating directory: my_logs/run_2023_02_08_15_28_05/plugins/profile/2023_02_08_15_28_06\n",
      "Dumped tool data for xplane.pb to my_logs/run_2023_02_08_15_28_05/plugins/profile/2023_02_08_15_28_06/927db9be23a9.xplane.pb\n",
      "Dumped tool data for overview_page.pb to my_logs/run_2023_02_08_15_28_05/plugins/profile/2023_02_08_15_28_06/927db9be23a9.overview_page.pb\n",
      "Dumped tool data for input_pipeline.pb to my_logs/run_2023_02_08_15_28_05/plugins/profile/2023_02_08_15_28_06/927db9be23a9.input_pipeline.pb\n",
      "Dumped tool data for tensorflow_stats.pb to my_logs/run_2023_02_08_15_28_05/plugins/profile/2023_02_08_15_28_06/927db9be23a9.tensorflow_stats.pb\n",
      "Dumped tool data for kernel_stats.pb to my_logs/run_2023_02_08_15_28_05/plugins/profile/2023_02_08_15_28_06/927db9be23a9.kernel_stats.pb\n",
      "\n"
     ]
    },
    {
     "name": "stdout",
     "output_type": "stream",
     "text": [
      "363/363 [==============================] - 1s 1ms/step - loss: 1.7325 - root_mean_squared_error: 1.3162 - val_loss: 1.3176 - val_root_mean_squared_error: 1.1479\n",
      "Epoch 2/20\n",
      "363/363 [==============================] - 0s 976us/step - loss: 0.7636 - root_mean_squared_error: 0.8738 - val_loss: 0.7312 - val_root_mean_squared_error: 0.8551\n",
      "Epoch 3/20\n",
      "363/363 [==============================] - 0s 979us/step - loss: 0.6789 - root_mean_squared_error: 0.8240 - val_loss: 0.6466 - val_root_mean_squared_error: 0.8041\n",
      "Epoch 4/20\n",
      "363/363 [==============================] - 0s 966us/step - loss: 0.6294 - root_mean_squared_error: 0.7934 - val_loss: 0.6257 - val_root_mean_squared_error: 0.7910\n",
      "Epoch 5/20\n",
      "363/363 [==============================] - 0s 965us/step - loss: 0.5932 - root_mean_squared_error: 0.7702 - val_loss: 0.6159 - val_root_mean_squared_error: 0.7848\n",
      "Epoch 6/20\n",
      "363/363 [==============================] - 0s 979us/step - loss: 0.5613 - root_mean_squared_error: 0.7492 - val_loss: 0.5957 - val_root_mean_squared_error: 0.7718\n",
      "Epoch 7/20\n",
      "363/363 [==============================] - 0s 1000us/step - loss: 0.5364 - root_mean_squared_error: 0.7324 - val_loss: 0.5843 - val_root_mean_squared_error: 0.7644\n",
      "Epoch 8/20\n",
      "363/363 [==============================] - 0s 960us/step - loss: 0.5141 - root_mean_squared_error: 0.7170 - val_loss: 0.5499 - val_root_mean_squared_error: 0.7415\n",
      "Epoch 9/20\n",
      "363/363 [==============================] - 0s 973us/step - loss: 0.4948 - root_mean_squared_error: 0.7034 - val_loss: 0.5189 - val_root_mean_squared_error: 0.7203\n",
      "Epoch 10/20\n",
      "363/363 [==============================] - 0s 965us/step - loss: 0.4787 - root_mean_squared_error: 0.6919 - val_loss: 0.4986 - val_root_mean_squared_error: 0.7061\n",
      "Epoch 11/20\n",
      "363/363 [==============================] - 0s 961us/step - loss: 0.4656 - root_mean_squared_error: 0.6824 - val_loss: 0.4499 - val_root_mean_squared_error: 0.6708\n",
      "Epoch 12/20\n",
      "363/363 [==============================] - 0s 966us/step - loss: 0.4544 - root_mean_squared_error: 0.6741 - val_loss: 0.4438 - val_root_mean_squared_error: 0.6662\n",
      "Epoch 13/20\n",
      "363/363 [==============================] - 0s 999us/step - loss: 0.4451 - root_mean_squared_error: 0.6672 - val_loss: 0.4199 - val_root_mean_squared_error: 0.6480\n",
      "Epoch 14/20\n",
      "363/363 [==============================] - 0s 989us/step - loss: 0.4376 - root_mean_squared_error: 0.6615 - val_loss: 0.4050 - val_root_mean_squared_error: 0.6364\n",
      "Epoch 15/20\n",
      "363/363 [==============================] - 0s 974us/step - loss: 0.4312 - root_mean_squared_error: 0.6566 - val_loss: 0.3962 - val_root_mean_squared_error: 0.6295\n",
      "Epoch 16/20\n",
      "363/363 [==============================] - 0s 1ms/step - loss: 0.4254 - root_mean_squared_error: 0.6522 - val_loss: 0.3895 - val_root_mean_squared_error: 0.6241\n",
      "Epoch 17/20\n",
      "363/363 [==============================] - 0s 1ms/step - loss: 0.4209 - root_mean_squared_error: 0.6488 - val_loss: 0.3872 - val_root_mean_squared_error: 0.6223\n",
      "Epoch 18/20\n",
      "363/363 [==============================] - 0s 978us/step - loss: 0.4171 - root_mean_squared_error: 0.6458 - val_loss: 0.3857 - val_root_mean_squared_error: 0.6211\n",
      "Epoch 19/20\n",
      "363/363 [==============================] - 0s 1ms/step - loss: 0.4129 - root_mean_squared_error: 0.6426 - val_loss: 0.3836 - val_root_mean_squared_error: 0.6193\n",
      "Epoch 20/20\n",
      "363/363 [==============================] - 0s 998us/step - loss: 0.4103 - root_mean_squared_error: 0.6406 - val_loss: 0.3925 - val_root_mean_squared_error: 0.6265\n"
     ]
    }
   ],
   "source": [
    "tensorboard_cb = tf.keras.callbacks.TensorBoard(run_logdir,\n",
    "                                                profile_batch=(100, 200))\n",
    "history = model.fit(X_train, y_train, epochs=20,\n",
    "                    validation_data=(X_valid, y_valid),\n",
    "                    callbacks=[tensorboard_cb])"
   ]
  },
  {
   "cell_type": "code",
   "execution_count": 87,
   "metadata": {},
   "outputs": [
    {
     "name": "stdout",
     "output_type": "stream",
     "text": [
      "my_logs\n",
      "  run_2023_02_08_15_28_05\n",
      "    events.out.tfevents.1675870086.927db9be23a9.profile-empty\n",
      "    plugins\n",
      "      profile\n",
      "        2023_02_08_15_28_06\n",
      "          927db9be23a9.input_pipeline.pb\n",
      "          927db9be23a9.kernel_stats.pb\n",
      "          927db9be23a9.memory_profile.json.gz\n",
      "          927db9be23a9.overview_page.pb\n",
      "          927db9be23a9.tensorflow_stats.pb\n",
      "          927db9be23a9.trace.json.gz\n",
      "          927db9be23a9.xplane.pb\n",
      "    train\n",
      "      events.out.tfevents.1675870085.927db9be23a9.163175.0.v2\n",
      "    validation\n",
      "      events.out.tfevents.1675870086.927db9be23a9.163175.1.v2\n"
     ]
    }
   ],
   "source": [
    "print(\"my_logs\")\n",
    "for path in sorted(Path(\"my_logs\").glob(\"**/*\")):\n",
    "    print(\"  \" * (len(path.parts) - 1) + path.parts[-1])"
   ]
  },
  {
   "cell_type": "markdown",
   "metadata": {},
   "source": [
    "Let's load the `tensorboard` Jupyter extension and start the TensorBoard server: "
   ]
  },
  {
   "cell_type": "code",
   "execution_count": 88,
   "metadata": {},
   "outputs": [
    {
     "data": {
      "text/html": [
       "\n",
       "      <iframe id=\"tensorboard-frame-84d1faa7c5f80ce8\" width=\"100%\" height=\"800\" frameborder=\"0\">\n",
       "      </iframe>\n",
       "      <script>\n",
       "        (function() {\n",
       "          const frame = document.getElementById(\"tensorboard-frame-84d1faa7c5f80ce8\");\n",
       "          const url = new URL(\"/\", window.location);\n",
       "          const port = 6006;\n",
       "          if (port) {\n",
       "            url.port = port;\n",
       "          }\n",
       "          frame.src = url;\n",
       "        })();\n",
       "      </script>\n",
       "    "
      ],
      "text/plain": [
       "<IPython.core.display.HTML object>"
      ]
     },
     "metadata": {},
     "output_type": "display_data"
    }
   ],
   "source": [
    "%load_ext tensorboard\n",
    "%tensorboard --logdir=./my_logs"
   ]
  },
  {
   "cell_type": "markdown",
   "metadata": {},
   "source": [
    "**Note**: if you prefer to access TensorBoard in a separate tab, click the \"localhost:6006\" link below:"
   ]
  },
  {
   "cell_type": "code",
   "execution_count": 89,
   "metadata": {},
   "outputs": [
    {
     "data": {
      "text/html": [
       "<a href=\"http://localhost:6006/\">http://localhost:6006/</a>"
      ],
      "text/plain": [
       "<IPython.core.display.HTML object>"
      ]
     },
     "metadata": {},
     "output_type": "display_data"
    }
   ],
   "source": [
    "# extra code\n",
    "\n",
    "if \"google.colab\" in sys.modules:\n",
    "    from google.colab import output\n",
    "\n",
    "    output.serve_kernel_port_as_window(6006)\n",
    "else:\n",
    "    from IPython.display import display, HTML\n",
    "\n",
    "    display(HTML('<a href=\"http://localhost:6006/\">http://localhost:6006/</a>'))"
   ]
  },
  {
   "cell_type": "markdown",
   "metadata": {},
   "source": [
    "You can use also visualize histograms, images, text, and even listen to audio using TensorBoard:"
   ]
  },
  {
   "cell_type": "code",
   "execution_count": 90,
   "metadata": {},
   "outputs": [],
   "source": [
    "test_logdir = get_run_logdir()\n",
    "writer = tf.summary.create_file_writer(str(test_logdir))\n",
    "with writer.as_default():\n",
    "    for step in range(1, 1000 + 1):\n",
    "        tf.summary.scalar(\"my_scalar\", np.sin(step / 10), step=step)\n",
    "        \n",
    "        data = (np.random.randn(100) + 2) * step / 100  # gets larger\n",
    "        tf.summary.histogram(\"my_hist\", data, buckets=50, step=step)\n",
    "        \n",
    "        images = np.random.rand(2, 32, 32, 3) * step / 1000  # gets brighter\n",
    "        tf.summary.image(\"my_images\", images, step=step)\n",
    "        \n",
    "        texts = [\"The step is \" + str(step), \"Its square is \" + str(step ** 2)]\n",
    "        tf.summary.text(\"my_text\", texts, step=step)\n",
    "        \n",
    "        sine_wave = tf.math.sin(tf.range(12000) / 48000 * 2 * np.pi * step)\n",
    "        audio = tf.reshape(tf.cast(sine_wave, tf.float32), [1, -1, 1])\n",
    "        tf.summary.audio(\"my_audio\", audio, sample_rate=48000, step=step)"
   ]
  },
  {
   "cell_type": "markdown",
   "metadata": {},
   "source": [
    "You can share your TensorBoard logs with the world by uploading them to https://tensorboard.dev/. For this, you can run the `tensorboard dev upload` command, with the `--logdir` and `--one_shot` options, and optionally the `--name` and `--description` options. The first time, it will ask you to accept Google's Terms of Service, and to authenticate.\n",
    "\n",
    "Notes:\n",
    "* Authenticating requires user input. Colab supports user input from shell commands, but the main other Jupyter environments do not, so for them we use a hackish workaround (alternatively, you could run the command in a terminal window, after you make sure to activate this project's conda environment and move to this notebook's directory).\n",
    "* If you get an authentication related error (such as *invalid_grant: Bad Request*), it's likely that your login session has expired. In this case, try running the command `tensorboard dev auth revoke` to logout, and try again."
   ]
  },
  {
   "cell_type": "code",
   "execution_count": 91,
   "metadata": {},
   "outputs": [],
   "source": [
    "# extra code\n",
    "\n",
    "if \"google.colab\" in sys.modules:\n",
    "    !tensorboard dev upload --logdir ./my_logs --one_shot \\\n",
    "                            --name \"Quick test\" --description \"This is a test\" \n",
    "else:\n",
    "    from tensorboard.main import run_main\n",
    "\n",
    "    argv = \"tensorboard dev upload --logdir ./my_logs --one_shot\".split()\n",
    "    argv += [\"--name\", \"Quick test\", \"--description\", \"This is a test\"]\n",
    "    try:\n",
    "        original_sys_argv_and_sys_exit = sys.argv, sys.exit\n",
    "        sys.argv, sys.exit = argv, lambda status: None\n",
    "        # gonna comment out the next line ...\n",
    "        # run_main()\n",
    "    finally:\n",
    "        sys.argv, sys.exit = original_sys_argv_and_sys_exit"
   ]
  },
  {
   "cell_type": "markdown",
   "metadata": {},
   "source": [
    "You can get list your published experiments:"
   ]
  },
  {
   "cell_type": "code",
   "execution_count": 92,
   "metadata": {},
   "outputs": [],
   "source": [
    "# gonna comment this out as well ..\n",
    "# !tensorboard dev list"
   ]
  },
  {
   "cell_type": "markdown",
   "metadata": {},
   "source": [
    "To delete an experiment, use the following command:\n",
    "\n",
    "```python\n",
    "!tensorboard dev delete --experiment_id <experiment_id>\n",
    "```"
   ]
  },
  {
   "cell_type": "markdown",
   "metadata": {},
   "source": [
    "When you stop this Jupyter kernel (a.k.a. Runtime), it will automatically stop the TensorBoard server as well. Another way to stop the TensorBoard server is to kill it, if you are running on Linux or MacOSX. First, you need to find its process ID:"
   ]
  },
  {
   "cell_type": "code",
   "execution_count": 93,
   "metadata": {},
   "outputs": [],
   "source": [
    "# extra code – lists all running TensorBoard server instances\n",
    "\n",
    "from tensorboard import notebook\n",
    "\n",
    "# gonna comment out the next line ...\n",
    "# notebook.list()"
   ]
  },
  {
   "cell_type": "markdown",
   "metadata": {},
   "source": [
    "Next you can use the following command on Linux or MacOSX, replacing `<pid>` with the pid listed above:\n",
    "\n",
    "    !kill <pid>\n",
    "\n",
    "On Windows:\n",
    "\n",
    "    !taskkill /F /PID <pid>"
   ]
  },
  {
   "cell_type": "markdown",
   "metadata": {},
   "source": [
    "# Fine-Tuning Neural Network Hyperparameters"
   ]
  },
  {
   "cell_type": "markdown",
   "metadata": {},
   "source": [
    "In this section we'll use the Fashion MNIST dataset again:"
   ]
  },
  {
   "cell_type": "code",
   "execution_count": 94,
   "metadata": {},
   "outputs": [],
   "source": [
    "(X_train_full, y_train_full), (X_test, y_test) = fashion_mnist\n",
    "X_train, y_train = X_train_full[:-5000], y_train_full[:-5000]\n",
    "X_valid, y_valid = X_train_full[-5000:], y_train_full[-5000:]"
   ]
  },
  {
   "cell_type": "code",
   "execution_count": 95,
   "metadata": {},
   "outputs": [],
   "source": [
    "tf.keras.backend.clear_session()\n",
    "tf.random.set_seed(42)"
   ]
  },
  {
   "cell_type": "code",
   "execution_count": 96,
   "metadata": {},
   "outputs": [],
   "source": [
    "if \"google.colab\" in sys.modules:\n",
    "    %pip install -q -U keras_tuner"
   ]
  },
  {
   "cell_type": "code",
   "execution_count": 97,
   "metadata": {},
   "outputs": [],
   "source": [
    "import keras_tuner as kt\n",
    "\n",
    "def build_model(hp):\n",
    "    n_hidden = hp.Int(\"n_hidden\", min_value=0, max_value=8, default=2)\n",
    "    n_neurons = hp.Int(\"n_neurons\", min_value=16, max_value=256)\n",
    "    learning_rate = hp.Float(\"learning_rate\", min_value=1e-4, max_value=1e-2,\n",
    "                             sampling=\"log\")\n",
    "    optimizer = hp.Choice(\"optimizer\", values=[\"sgd\", \"adam\"])\n",
    "    if optimizer == \"sgd\":\n",
    "        optimizer = tf.keras.optimizers.SGD(learning_rate=learning_rate)\n",
    "    else:\n",
    "        optimizer = tf.keras.optimizers.Adam(learning_rate=learning_rate)\n",
    "\n",
    "    model = tf.keras.Sequential()\n",
    "    model.add(tf.keras.layers.Flatten())\n",
    "    for _ in range(n_hidden):\n",
    "        model.add(tf.keras.layers.Dense(n_neurons, activation=\"relu\"))\n",
    "    model.add(tf.keras.layers.Dense(10, activation=\"softmax\"))\n",
    "    model.compile(loss=\"sparse_categorical_crossentropy\", optimizer=optimizer,\n",
    "                  metrics=[\"accuracy\"])\n",
    "    return model"
   ]
  },
  {
   "cell_type": "code",
   "execution_count": 98,
   "metadata": {},
   "outputs": [
    {
     "name": "stdout",
     "output_type": "stream",
     "text": [
      "Trial 5 Complete [00h 00m 21s]\n",
      "val_accuracy: 0.843999981880188\n",
      "\n",
      "Best val_accuracy So Far: 0.8632000088691711\n",
      "Total elapsed time: 00h 01m 39s\n",
      "INFO:tensorflow:Oracle triggered exit\n"
     ]
    }
   ],
   "source": [
    "random_search_tuner = kt.RandomSearch(\n",
    "    build_model, objective=\"val_accuracy\", max_trials=5, overwrite=True,\n",
    "    directory=\"my_fashion_mnist\", project_name=\"my_rnd_search\", seed=42)\n",
    "random_search_tuner.search(X_train, y_train, epochs=10,\n",
    "                           validation_data=(X_valid, y_valid))"
   ]
  },
  {
   "cell_type": "code",
   "execution_count": 99,
   "metadata": {},
   "outputs": [],
   "source": [
    "top3_models = random_search_tuner.get_best_models(num_models=3)\n",
    "best_model = top3_models[0]"
   ]
  },
  {
   "cell_type": "code",
   "execution_count": 100,
   "metadata": {},
   "outputs": [
    {
     "data": {
      "text/plain": [
       "{'n_hidden': 7,\n",
       " 'n_neurons': 100,\n",
       " 'learning_rate': 0.0012482904754698163,\n",
       " 'optimizer': 'sgd'}"
      ]
     },
     "execution_count": 100,
     "metadata": {},
     "output_type": "execute_result"
    }
   ],
   "source": [
    "top3_params = random_search_tuner.get_best_hyperparameters(num_trials=3)\n",
    "top3_params[0].values  # best hyperparameter values"
   ]
  },
  {
   "cell_type": "code",
   "execution_count": 101,
   "metadata": {},
   "outputs": [
    {
     "name": "stdout",
     "output_type": "stream",
     "text": [
      "Trial summary\n",
      "Hyperparameters:\n",
      "n_hidden: 7\n",
      "n_neurons: 100\n",
      "learning_rate: 0.0012482904754698163\n",
      "optimizer: sgd\n",
      "Score: 0.8632000088691711\n"
     ]
    }
   ],
   "source": [
    "best_trial = random_search_tuner.oracle.get_best_trials(num_trials=1)[0]\n",
    "best_trial.summary()"
   ]
  },
  {
   "cell_type": "code",
   "execution_count": 102,
   "metadata": {},
   "outputs": [
    {
     "data": {
      "text/plain": [
       "0.8632000088691711"
      ]
     },
     "execution_count": 102,
     "metadata": {},
     "output_type": "execute_result"
    }
   ],
   "source": [
    "best_trial.metrics.get_last_value(\"val_accuracy\")"
   ]
  },
  {
   "cell_type": "code",
   "execution_count": 103,
   "metadata": {},
   "outputs": [
    {
     "name": "stdout",
     "output_type": "stream",
     "text": [
      "Epoch 1/10\n",
      "1875/1875 [==============================] - 3s 1ms/step - loss: 0.3375 - accuracy: 0.8760\n",
      "Epoch 2/10\n",
      "1875/1875 [==============================] - 2s 1ms/step - loss: 0.3270 - accuracy: 0.8793\n",
      "Epoch 3/10\n",
      "1875/1875 [==============================] - 2s 1ms/step - loss: 0.3177 - accuracy: 0.8841\n",
      "Epoch 4/10\n",
      "1875/1875 [==============================] - 2s 1ms/step - loss: 0.3099 - accuracy: 0.8849\n",
      "Epoch 5/10\n",
      "1875/1875 [==============================] - 2s 1ms/step - loss: 0.3050 - accuracy: 0.8865\n",
      "Epoch 6/10\n",
      "1875/1875 [==============================] - 2s 1ms/step - loss: 0.2968 - accuracy: 0.8898\n",
      "Epoch 7/10\n",
      "1875/1875 [==============================] - 2s 1ms/step - loss: 0.2894 - accuracy: 0.8923\n",
      "Epoch 8/10\n",
      "1875/1875 [==============================] - 2s 1ms/step - loss: 0.2847 - accuracy: 0.8927\n",
      "Epoch 9/10\n",
      "1875/1875 [==============================] - 2s 1ms/step - loss: 0.2776 - accuracy: 0.8972\n",
      "Epoch 10/10\n",
      "1875/1875 [==============================] - 2s 1ms/step - loss: 0.2727 - accuracy: 0.8970\n",
      "313/313 [==============================] - 0s 867us/step - loss: 0.3946 - accuracy: 0.8602\n"
     ]
    }
   ],
   "source": [
    "best_model.fit(X_train_full, y_train_full, epochs=10)\n",
    "test_loss, test_accuracy = best_model.evaluate(X_test, y_test)"
   ]
  },
  {
   "cell_type": "code",
   "execution_count": 104,
   "metadata": {},
   "outputs": [],
   "source": [
    "class MyClassificationHyperModel(kt.HyperModel):\n",
    "    def build(self, hp):\n",
    "        return build_model(hp)\n",
    "\n",
    "    def fit(self, hp, model, X, y, **kwargs):\n",
    "        if hp.Boolean(\"normalize\"):\n",
    "            norm_layer = tf.keras.layers.Normalization()\n",
    "            X = norm_layer(X)\n",
    "        return model.fit(X, y, **kwargs)"
   ]
  },
  {
   "cell_type": "code",
   "execution_count": 105,
   "metadata": {},
   "outputs": [],
   "source": [
    "hyperband_tuner = kt.Hyperband(\n",
    "    MyClassificationHyperModel(), objective=\"val_accuracy\", seed=42,\n",
    "    max_epochs=10, factor=3, hyperband_iterations=2,\n",
    "    overwrite=True, directory=\"my_fashion_mnist\", project_name=\"hyperband\")"
   ]
  },
  {
   "cell_type": "code",
   "execution_count": 106,
   "metadata": {},
   "outputs": [
    {
     "name": "stdout",
     "output_type": "stream",
     "text": [
      "Trial 60 Complete [00h 00m 20s]\n",
      "val_accuracy: 0.8514000177383423\n",
      "\n",
      "Best val_accuracy So Far: 0.8794000148773193\n",
      "Total elapsed time: 00h 08m 44s\n",
      "INFO:tensorflow:Oracle triggered exit\n"
     ]
    }
   ],
   "source": [
    "root_logdir = Path(hyperband_tuner.project_dir) / \"tensorboard\"\n",
    "tensorboard_cb = tf.keras.callbacks.TensorBoard(root_logdir)\n",
    "early_stopping_cb = tf.keras.callbacks.EarlyStopping(patience=2)\n",
    "hyperband_tuner.search(X_train, y_train, epochs=10,\n",
    "                       validation_data=(X_valid, y_valid),\n",
    "                       callbacks=[early_stopping_cb, tensorboard_cb])"
   ]
  },
  {
   "cell_type": "code",
   "execution_count": 107,
   "metadata": {},
   "outputs": [
    {
     "name": "stdout",
     "output_type": "stream",
     "text": [
      "Trial 10 Complete [00h 00m 21s]\n",
      "val_accuracy: 0.842199981212616\n",
      "\n",
      "Best val_accuracy So Far: 0.8574000000953674\n",
      "Total elapsed time: 00h 02m 44s\n",
      "INFO:tensorflow:Oracle triggered exit\n"
     ]
    }
   ],
   "source": [
    "bayesian_opt_tuner = kt.BayesianOptimization(\n",
    "    MyClassificationHyperModel(), objective=\"val_accuracy\", seed=42,\n",
    "    max_trials=10, alpha=1e-4, beta=2.6,\n",
    "    overwrite=True, directory=\"my_fashion_mnist\", project_name=\"bayesian_opt\")\n",
    "bayesian_opt_tuner.search(X_train, y_train, epochs=10,\n",
    "                          validation_data=(X_valid, y_valid),\n",
    "                          callbacks=[early_stopping_cb])"
   ]
  },
  {
   "cell_type": "code",
   "execution_count": 108,
   "metadata": {},
   "outputs": [
    {
     "data": {
      "text/html": [
       "\n",
       "      <iframe id=\"tensorboard-frame-6cd12fb30c3c0ca2\" width=\"100%\" height=\"800\" frameborder=\"0\">\n",
       "      </iframe>\n",
       "      <script>\n",
       "        (function() {\n",
       "          const frame = document.getElementById(\"tensorboard-frame-6cd12fb30c3c0ca2\");\n",
       "          const url = new URL(\"/\", window.location);\n",
       "          const port = 6007;\n",
       "          if (port) {\n",
       "            url.port = port;\n",
       "          }\n",
       "          frame.src = url;\n",
       "        })();\n",
       "      </script>\n",
       "    "
      ],
      "text/plain": [
       "<IPython.core.display.HTML object>"
      ]
     },
     "metadata": {},
     "output_type": "display_data"
    }
   ],
   "source": [
    "%tensorboard --logdir {root_logdir}"
   ]
  },
  {
   "cell_type": "markdown",
   "metadata": {},
   "source": [
    "# Exercise solutions"
   ]
  },
  {
   "cell_type": "markdown",
   "metadata": {},
   "source": [
    "## 1. to 9."
   ]
  },
  {
   "cell_type": "markdown",
   "metadata": {},
   "source": [
    "1. Visit the [TensorFlow Playground](https://playground.tensorflow.org/) and play around with it, as described in this exercise.\n",
    "2. Here is a neural network based on the original artificial neurons that computes _A_ ⊕ _B_ (where ⊕ represents the exclusive OR), using the fact that _A_ ⊕ _B_ = (_A_ ∧ ¬ _B_) ∨ (¬ _A_ ∧ _B_). There are other solutions—for example, using the fact that _A_ ⊕ _B_ = (_A_ ∨ _B_) ∧ ¬(_A_ ∧ _B_), or the fact that _A_ ⊕ _B_ = (_A_ ∨ _B_) ∧ (¬ _A_ ∨ ¬ _B_), and so on.<br /><img width=\"70%\" src=\"images/ann/exercise2.png\" />\n",
    "3. A classical Perceptron will converge only if the dataset is linearly separable, and it won't be able to estimate class probabilities. In contrast, a Logistic Regression classifier will generally converge to a reasonably good solution even if the dataset is not linearly separable, and it will output class probabilities. If you change the Perceptron's activation function to the sigmoid activation function (or the softmax activation function if there are multiple neurons), and if you train it using Gradient Descent (or some other optimization algorithm minimizing the cost function, typically cross entropy), then it becomes equivalent to a Logistic Regression classifier.\n",
    "4. The sigmoid activation function was a key ingredient in training the first MLPs because its derivative is always nonzero, so Gradient Descent can always roll down the slope. When the activation function is a step function, Gradient Descent cannot move, as there is no slope at all.\n",
    "5. Popular activation functions include the step function, the sigmoid function, the hyperbolic tangent (tanh) function, and the Rectified Linear Unit (ReLU) function (see Figure 10-8). See Chapter 11 for other examples, such as ELU and variants of the ReLU function.\n",
    "6. Considering the MLP described in the question, composed of one input layer with 10 passthrough neurons, followed by one hidden layer with 50 artificial neurons, and finally one output layer with 3 artificial neurons, where all artificial neurons use the ReLU activation function:\n",
    "    * The shape of the input matrix **X** is _m_ × 10, where _m_ represents the training batch size.\n",
    "    * The shape of the hidden layer's weight matrix **W**<sub>_h_</sub> is 10 × 50, and the length of its bias vector **b**<sub>_h_</sub> is 50.\n",
    "    * The shape of the output layer's weight matrix **W**<sub>_o_</sub> is 50 × 3, and the length of its bias vector **b**<sub>_o_</sub> is 3.\n",
    "    * The shape of the network's output matrix **Y** is _m_ × 3.\n",
    "    * **Y** = ReLU(ReLU(**X** **W**<sub>_h_</sub> + **b**<sub>_h_</sub>) **W**<sub>_o_</sub> + **b**<sub>_o_</sub>). Recall that the ReLU function just sets every negative number in the matrix to zero. Also note that when you are adding a bias vector to a matrix, it is added to every single row in the matrix, which is called _broadcasting_.\n",
    "7. To classify email into spam or ham, you just need one neuron in the output layer of a neural network—for example, indicating the probability that the email is spam. You would typically use the sigmoid activation function in the output layer when estimating a probability. If instead you want to tackle MNIST, you need 10 neurons in the output layer, and you must replace the sigmoid function with the softmax activation function, which can handle multiple classes, outputting one probability per class. If you want your neural network to predict housing prices like in Chapter 2, then you need one output neuron, using no activation function at all in the output layer. Note: when the values to predict can vary by many orders of magnitude, you may want to predict the logarithm of the target value rather than the target value directly. Simply computing the exponential of the neural network's output will give you the estimated value (since exp(log _v_) = _v_).\n",
    "8. Backpropagation is a technique used to train artificial neural networks. It first computes the gradients of the cost function with regard to every model parameter (all the weights and biases), then it performs a Gradient Descent step using these gradients. This backpropagation step is typically performed thousands or millions of times, using many training batches, until the model parameters converge to values that (hopefully) minimize the cost function. To compute the gradients, backpropagation uses reverse-mode autodiff (although it wasn't called that when backpropagation was invented, and it has been reinvented several times). Reverse-mode autodiff performs a forward pass through a computation graph, computing every node's value for the current training batch, and then it performs a reverse pass, computing all the gradients at once (see Appendix B for more details). So what's the difference? Well, backpropagation refers to the whole process of training an artificial neural network using multiple backpropagation steps, each of which computes gradients and uses them to perform a Gradient Descent step. In contrast, reverse-mode autodiff is just a technique to compute gradients efficiently, and it happens to be used by backpropagation.\n",
    "9. Here is a list of all the hyperparameters you can tweak in a basic MLP: the number of hidden layers, the number of neurons in each hidden layer, and the activation function used in each hidden layer and in the output layer. In general, the ReLU activation function (or one of its variants; see Chapter 11) is a good default for the hidden layers. For the output layer, in general you will want the sigmoid activation function for binary classification, the softmax activation function for multiclass classification, or no activation function for regression. If the MLP overfits the training data, you can try reducing the number of hidden layers and reducing the number of neurons per hidden layer."
   ]
  },
  {
   "cell_type": "markdown",
   "metadata": {},
   "source": [
    "## 10."
   ]
  },
  {
   "cell_type": "markdown",
   "metadata": {},
   "source": [
    "*Exercise: Train a deep MLP on the MNIST dataset (you can load it using `tf.keras.datasets.mnist.load_data()`. See if you can get over 98% accuracy by manually tuning the hyperparameters. Try searching for the optimal learning rate by using the approach presented in this chapter (i.e., by growing the learning rate exponentially, plotting the loss, and finding the point where the loss shoots up). Next, try tuning the hyperparameters using Keras Tuner with all the bells and whistles—save checkpoints, use early stopping, and plot learning curves using TensorBoard.*"
   ]
  },
  {
   "cell_type": "markdown",
   "metadata": {},
   "source": [
    "**TODO**: update this solution to use Keras Tuner."
   ]
  },
  {
   "cell_type": "markdown",
   "metadata": {},
   "source": [
    "Let's load the dataset:"
   ]
  },
  {
   "cell_type": "code",
   "execution_count": 109,
   "metadata": {},
   "outputs": [
    {
     "name": "stdout",
     "output_type": "stream",
     "text": [
      "Downloading data from https://storage.googleapis.com/tensorflow/tf-keras-datasets/mnist.npz\n",
      "11490434/11490434 [==============================] - 12s 1us/step\n"
     ]
    }
   ],
   "source": [
    "(X_train_full, y_train_full), (X_test, y_test) = tf.keras.datasets.mnist.load_data()"
   ]
  },
  {
   "cell_type": "markdown",
   "metadata": {},
   "source": [
    "Just like for the Fashion MNIST dataset, the MNIST training set contains 60,000 grayscale images, each 28x28 pixels:"
   ]
  },
  {
   "cell_type": "code",
   "execution_count": 110,
   "metadata": {},
   "outputs": [
    {
     "data": {
      "text/plain": [
       "(60000, 28, 28)"
      ]
     },
     "execution_count": 110,
     "metadata": {},
     "output_type": "execute_result"
    }
   ],
   "source": [
    "X_train_full.shape"
   ]
  },
  {
   "cell_type": "markdown",
   "metadata": {},
   "source": [
    "Each pixel intensity is also represented as a byte (0 to 255):"
   ]
  },
  {
   "cell_type": "code",
   "execution_count": 111,
   "metadata": {},
   "outputs": [
    {
     "data": {
      "text/plain": [
       "dtype('uint8')"
      ]
     },
     "execution_count": 111,
     "metadata": {},
     "output_type": "execute_result"
    }
   ],
   "source": [
    "X_train_full.dtype"
   ]
  },
  {
   "cell_type": "markdown",
   "metadata": {},
   "source": [
    "Let's split the full training set into a validation set and a (smaller) training set. We also scale the pixel intensities down to the 0-1 range and convert them to floats, by dividing by 255, just like we did for Fashion MNIST:"
   ]
  },
  {
   "cell_type": "code",
   "execution_count": 112,
   "metadata": {},
   "outputs": [],
   "source": [
    "X_valid, X_train = X_train_full[:5000] / 255., X_train_full[5000:] / 255.\n",
    "y_valid, y_train = y_train_full[:5000], y_train_full[5000:]\n",
    "X_test = X_test / 255."
   ]
  },
  {
   "cell_type": "markdown",
   "metadata": {},
   "source": [
    "Let's plot an image using Matplotlib's `imshow()` function, with a `'binary'`\n",
    " color map:"
   ]
  },
  {
   "cell_type": "code",
   "execution_count": 113,
   "metadata": {},
   "outputs": [
    {
     "data": {
      "image/png": "[encoded data removed]",
      "text/plain": [
       "<Figure size 640x480 with 1 Axes>"
      ]
     },
     "metadata": {},
     "output_type": "display_data"
    }
   ],
   "source": [
    "plt.imshow(X_train[0], cmap=\"binary\")\n",
    "plt.axis('off')\n",
    "plt.show()"
   ]
  },
  {
   "cell_type": "markdown",
   "metadata": {},
   "source": [
    "The labels are the class IDs (represented as uint8), from 0 to 9. Conveniently, the class IDs correspond to the digits represented in the images, so we don't need a `class_names` array:"
   ]
  },
  {
   "cell_type": "code",
   "execution_count": 114,
   "metadata": {},
   "outputs": [
    {
     "data": {
      "text/plain": [
       "array([7, 3, 4, ..., 5, 6, 8], dtype=uint8)"
      ]
     },
     "execution_count": 114,
     "metadata": {},
     "output_type": "execute_result"
    }
   ],
   "source": [
    "y_train"
   ]
  },
  {
   "cell_type": "markdown",
   "metadata": {},
   "source": [
    "The validation set contains 5,000 images, and the test set contains 10,000 images:"
   ]
  },
  {
   "cell_type": "code",
   "execution_count": 115,
   "metadata": {},
   "outputs": [
    {
     "data": {
      "text/plain": [
       "(5000, 28, 28)"
      ]
     },
     "execution_count": 115,
     "metadata": {},
     "output_type": "execute_result"
    }
   ],
   "source": [
    "X_valid.shape"
   ]
  },
  {
   "cell_type": "code",
   "execution_count": 116,
   "metadata": {},
   "outputs": [
    {
     "data": {
      "text/plain": [
       "(10000, 28, 28)"
      ]
     },
     "execution_count": 116,
     "metadata": {},
     "output_type": "execute_result"
    }
   ],
   "source": [
    "X_test.shape"
   ]
  },
  {
   "cell_type": "markdown",
   "metadata": {},
   "source": [
    "Let's take a look at a sample of the images in the dataset:"
   ]
  },
  {
   "cell_type": "code",
   "execution_count": 117,
   "metadata": {},
   "outputs": [
    {
     "data": {
      "image/png": "[encoded data removed]",
      "text/plain": [
       "<Figure size 1200x480 with 40 Axes>"
      ]
     },
     "metadata": {},
     "output_type": "display_data"
    }
   ],
   "source": [
    "n_rows = 4\n",
    "n_cols = 10\n",
    "plt.figure(figsize=(n_cols * 1.2, n_rows * 1.2))\n",
    "for row in range(n_rows):\n",
    "    for col in range(n_cols):\n",
    "        index = n_cols * row + col\n",
    "        plt.subplot(n_rows, n_cols, index + 1)\n",
    "        plt.imshow(X_train[index], cmap=\"binary\", interpolation=\"nearest\")\n",
    "        plt.axis('off')\n",
    "        plt.title(y_train[index])\n",
    "plt.subplots_adjust(wspace=0.2, hspace=0.5)\n",
    "plt.show()"
   ]
  },
  {
   "cell_type": "markdown",
   "metadata": {},
   "source": [
    "Let's build a simple dense network and find the optimal learning rate. We will need a callback to grow the learning rate at each iteration. It will also record the learning rate and the loss at each iteration:"
   ]
  },
  {
   "cell_type": "code",
   "execution_count": 118,
   "metadata": {},
   "outputs": [],
   "source": [
    "K = tf.keras.backend\n",
    "\n",
    "class ExponentialLearningRate(tf.keras.callbacks.Callback):\n",
    "    def __init__(self, factor):\n",
    "        self.factor = factor\n",
    "        self.rates = []\n",
    "        self.losses = []\n",
    "    def on_batch_end(self, batch, logs):\n",
    "        self.rates.append(K.get_value(self.model.optimizer.learning_rate))\n",
    "        self.losses.append(logs[\"loss\"])\n",
    "        K.set_value(self.model.optimizer.learning_rate, self.model.optimizer.learning_rate * self.factor)"
   ]
  },
  {
   "cell_type": "code",
   "execution_count": 119,
   "metadata": {},
   "outputs": [],
   "source": [
    "tf.keras.backend.clear_session()\n",
    "np.random.seed(42)\n",
    "tf.random.set_seed(42)"
   ]
  },
  {
   "cell_type": "code",
   "execution_count": 120,
   "metadata": {},
   "outputs": [],
   "source": [
    "model = tf.keras.Sequential([\n",
    "    tf.keras.layers.Flatten(input_shape=[28, 28]),\n",
    "    tf.keras.layers.Dense(300, activation=\"relu\"),\n",
    "    tf.keras.layers.Dense(100, activation=\"relu\"),\n",
    "    tf.keras.layers.Dense(10, activation=\"softmax\")\n",
    "])"
   ]
  },
  {
   "cell_type": "markdown",
   "metadata": {},
   "source": [
    "We will start with a small learning rate of 1e-3, and grow it by 0.5% at each iteration:"
   ]
  },
  {
   "cell_type": "code",
   "execution_count": 121,
   "metadata": {},
   "outputs": [],
   "source": [
    "optimizer = tf.keras.optimizers.SGD(learning_rate=1e-3)\n",
    "model.compile(loss=\"sparse_categorical_crossentropy\", optimizer=optimizer,\n",
    "              metrics=[\"accuracy\"])\n",
    "expon_lr = ExponentialLearningRate(factor=1.005)"
   ]
  },
  {
   "cell_type": "markdown",
   "metadata": {},
   "source": [
    "Now let's train the model for just 1 epoch:"
   ]
  },
  {
   "cell_type": "code",
   "execution_count": 122,
   "metadata": {},
   "outputs": [
    {
     "name": "stdout",
     "output_type": "stream",
     "text": [
      "1719/1719 [==============================] - 3s 2ms/step - loss: nan - accuracy: 0.5920 - val_loss: nan - val_accuracy: 0.0958\n"
     ]
    }
   ],
   "source": [
    "history = model.fit(X_train, y_train, epochs=1,\n",
    "                    validation_data=(X_valid, y_valid),\n",
    "                    callbacks=[expon_lr])"
   ]
  },
  {
   "cell_type": "markdown",
   "metadata": {},
   "source": [
    "We can now plot the loss as a functionof the learning rate:"
   ]
  },
  {
   "cell_type": "code",
   "execution_count": 123,
   "metadata": {},
   "outputs": [
    {
     "data": {
      "text/plain": [
       "Text(0, 0.5, 'Loss')"
      ]
     },
     "execution_count": 123,
     "metadata": {},
     "output_type": "execute_result"
    },
    {
     "data": {
      "image/png": "[encoded data removed]",
      "text/plain": [
       "<Figure size 640x480 with 1 Axes>"
      ]
     },
     "metadata": {},
     "output_type": "display_data"
    }
   ],
   "source": [
    "plt.plot(expon_lr.rates, expon_lr.losses)\n",
    "plt.gca().set_xscale('log')\n",
    "plt.hlines(min(expon_lr.losses), min(expon_lr.rates), max(expon_lr.rates))\n",
    "plt.axis([min(expon_lr.rates), max(expon_lr.rates), 0, expon_lr.losses[0]])\n",
    "plt.grid()\n",
    "plt.xlabel(\"Learning rate\")\n",
    "plt.ylabel(\"Loss\")"
   ]
  },
  {
   "cell_type": "markdown",
   "metadata": {},
   "source": [
    "The loss starts shooting back up violently when the learning rate goes over 6e-1, so let's try using half of that, at 3e-1:"
   ]
  },
  {
   "cell_type": "code",
   "execution_count": 124,
   "metadata": {},
   "outputs": [],
   "source": [
    "tf.keras.backend.clear_session()\n",
    "np.random.seed(42)\n",
    "tf.random.set_seed(42)"
   ]
  },
  {
   "cell_type": "code",
   "execution_count": 125,
   "metadata": {},
   "outputs": [],
   "source": [
    "model = tf.keras.Sequential([\n",
    "    tf.keras.layers.Flatten(input_shape=[28, 28]),\n",
    "    tf.keras.layers.Dense(300, activation=\"relu\"),\n",
    "    tf.keras.layers.Dense(100, activation=\"relu\"),\n",
    "    tf.keras.layers.Dense(10, activation=\"softmax\")\n",
    "])"
   ]
  },
  {
   "cell_type": "code",
   "execution_count": 126,
   "metadata": {},
   "outputs": [],
   "source": [
    "optimizer = tf.keras.optimizers.SGD(learning_rate=3e-1)\n",
    "model.compile(loss=\"sparse_categorical_crossentropy\", optimizer=optimizer,\n",
    "              metrics=[\"accuracy\"])"
   ]
  },
  {
   "cell_type": "code",
   "execution_count": 127,
   "metadata": {},
   "outputs": [
    {
     "data": {
      "text/plain": [
       "PosixPath('my_mnist_logs/run_001')"
      ]
     },
     "execution_count": 127,
     "metadata": {},
     "output_type": "execute_result"
    }
   ],
   "source": [
    "run_index = 1 # increment this at every run\n",
    "run_logdir = Path() / \"my_mnist_logs\" / \"run_{:03d}\".format(run_index)\n",
    "run_logdir"
   ]
  },
  {
   "cell_type": "code",
   "execution_count": 128,
   "metadata": {},
   "outputs": [
    {
     "name": "stdout",
     "output_type": "stream",
     "text": [
      "Epoch 1/100\n",
      "1688/1719 [============================>.] - ETA: 0s - loss: 0.2355 - accuracy: 0.9263INFO:tensorflow:Assets written to: my_mnist_model/assets\n",
      "1719/1719 [==============================] - 3s 2ms/step - loss: 0.2340 - accuracy: 0.9268 - val_loss: 0.1117 - val_accuracy: 0.9670\n",
      "Epoch 2/100\n",
      "1691/1719 [============================>.] - ETA: 0s - loss: 0.0952 - accuracy: 0.9706INFO:tensorflow:Assets written to: my_mnist_model/assets\n",
      "1719/1719 [==============================] - 2s 1ms/step - loss: 0.0949 - accuracy: 0.9706 - val_loss: 0.0941 - val_accuracy: 0.9738\n",
      "Epoch 3/100\n",
      "1694/1719 [============================>.] - ETA: 0s - loss: 0.0650 - accuracy: 0.9793INFO:tensorflow:Assets written to: my_mnist_model/assets\n",
      "1719/1719 [==============================] - 2s 1ms/step - loss: 0.0653 - accuracy: 0.9791 - val_loss: 0.0762 - val_accuracy: 0.9804\n",
      "Epoch 4/100\n",
      "1700/1719 [============================>.] - ETA: 0s - loss: 0.0502 - accuracy: 0.9833INFO:tensorflow:Assets written to: my_mnist_model/assets\n",
      "1719/1719 [==============================] - 2s 1ms/step - loss: 0.0499 - accuracy: 0.9834 - val_loss: 0.0755 - val_accuracy: 0.9806\n",
      "Epoch 5/100\n",
      "1719/1719 [==============================] - 2s 1ms/step - loss: 0.0366 - accuracy: 0.9881 - val_loss: 0.1072 - val_accuracy: 0.9732\n",
      "Epoch 6/100\n",
      "1719/1719 [==============================] - 2s 1ms/step - loss: 0.0297 - accuracy: 0.9903 - val_loss: 0.0804 - val_accuracy: 0.9786\n",
      "Epoch 7/100\n",
      "1719/1719 [==============================] - 2s 1ms/step - loss: 0.0258 - accuracy: 0.9913 - val_loss: 0.0888 - val_accuracy: 0.9786\n",
      "Epoch 8/100\n",
      "1719/1719 [==============================] - 2s 1ms/step - loss: 0.0187 - accuracy: 0.9940 - val_loss: 0.0818 - val_accuracy: 0.9818\n",
      "Epoch 9/100\n",
      "1719/1719 [==============================] - 2s 1ms/step - loss: 0.0125 - accuracy: 0.9958 - val_loss: 0.0812 - val_accuracy: 0.9826\n",
      "Epoch 10/100\n",
      "1719/1719 [==============================] - 2s 1ms/step - loss: 0.0149 - accuracy: 0.9951 - val_loss: 0.0873 - val_accuracy: 0.9810\n",
      "Epoch 11/100\n",
      "1719/1719 [==============================] - 2s 1ms/step - loss: 0.0092 - accuracy: 0.9968 - val_loss: 0.0873 - val_accuracy: 0.9850\n",
      "Epoch 12/100\n",
      "1719/1719 [==============================] - 2s 1ms/step - loss: 0.0100 - accuracy: 0.9968 - val_loss: 0.0870 - val_accuracy: 0.9818\n",
      "Epoch 13/100\n",
      "1719/1719 [==============================] - 2s 1ms/step - loss: 0.0113 - accuracy: 0.9964 - val_loss: 0.0944 - val_accuracy: 0.9806\n",
      "Epoch 14/100\n",
      "1719/1719 [==============================] - 2s 1ms/step - loss: 0.0084 - accuracy: 0.9976 - val_loss: 0.0947 - val_accuracy: 0.9828\n",
      "Epoch 15/100\n",
      "1719/1719 [==============================] - 2s 1ms/step - loss: 0.0091 - accuracy: 0.9972 - val_loss: 0.0995 - val_accuracy: 0.9820\n",
      "Epoch 16/100\n",
      "1719/1719 [==============================] - 3s 2ms/step - loss: 0.0081 - accuracy: 0.9976 - val_loss: 0.0913 - val_accuracy: 0.9842\n",
      "Epoch 17/100\n",
      "1719/1719 [==============================] - 2s 1ms/step - loss: 0.0076 - accuracy: 0.9976 - val_loss: 0.1014 - val_accuracy: 0.9822\n",
      "Epoch 18/100\n",
      "1719/1719 [==============================] - 2s 1ms/step - loss: 0.0052 - accuracy: 0.9987 - val_loss: 0.0935 - val_accuracy: 0.9840\n",
      "Epoch 19/100\n",
      "1719/1719 [==============================] - 2s 1ms/step - loss: 0.0013 - accuracy: 0.9997 - val_loss: 0.1199 - val_accuracy: 0.9816\n",
      "Epoch 20/100\n",
      "1719/1719 [==============================] - 2s 1ms/step - loss: 0.0051 - accuracy: 0.9987 - val_loss: 0.0997 - val_accuracy: 0.9824\n",
      "Epoch 21/100\n",
      "1719/1719 [==============================] - 2s 1ms/step - loss: 0.0039 - accuracy: 0.9989 - val_loss: 0.0953 - val_accuracy: 0.9844\n",
      "Epoch 22/100\n",
      "1719/1719 [==============================] - 2s 1ms/step - loss: 0.0014 - accuracy: 0.9996 - val_loss: 0.0953 - val_accuracy: 0.9856\n",
      "Epoch 23/100\n",
      "1719/1719 [==============================] - 2s 1ms/step - loss: 4.4738e-04 - accuracy: 0.9999 - val_loss: 0.1024 - val_accuracy: 0.9846\n",
      "Epoch 24/100\n",
      "1719/1719 [==============================] - 3s 1ms/step - loss: 8.9423e-05 - accuracy: 1.0000 - val_loss: 0.0992 - val_accuracy: 0.9848\n"
     ]
    }
   ],
   "source": [
    "early_stopping_cb = tf.keras.callbacks.EarlyStopping(patience=20)\n",
    "checkpoint_cb = tf.keras.callbacks.ModelCheckpoint(\"my_mnist_model\", save_best_only=True)\n",
    "tensorboard_cb = tf.keras.callbacks.TensorBoard(run_logdir)\n",
    "\n",
    "history = model.fit(X_train, y_train, epochs=100,\n",
    "                    validation_data=(X_valid, y_valid),\n",
    "                    callbacks=[checkpoint_cb, early_stopping_cb, tensorboard_cb])"
   ]
  },
  {
   "cell_type": "code",
   "execution_count": 129,
   "metadata": {},
   "outputs": [
    {
     "name": "stdout",
     "output_type": "stream",
     "text": [
      "313/313 [==============================] - 0s 929us/step - loss: 0.0779 - accuracy: 0.9772\n"
     ]
    },
    {
     "data": {
      "text/plain": [
       "[0.07789678126573563, 0.9771999716758728]"
      ]
     },
     "execution_count": 129,
     "metadata": {},
     "output_type": "execute_result"
    }
   ],
   "source": [
    "model = tf.keras.models.load_model(\"my_mnist_model\") # rollback to best model\n",
    "model.evaluate(X_test, y_test)"
   ]
  },
  {
   "cell_type": "markdown",
   "metadata": {},
   "source": [
    "We got over 98% accuracy. Finally, let's look at the learning curves using TensorBoard:"
   ]
  },
  {
   "cell_type": "code",
   "execution_count": 130,
   "metadata": {},
   "outputs": [
    {
     "data": {
      "text/html": [
       "\n",
       "      <iframe id=\"tensorboard-frame-2a5e1dd010d9e197\" width=\"100%\" height=\"800\" frameborder=\"0\">\n",
       "      </iframe>\n",
       "      <script>\n",
       "        (function() {\n",
       "          const frame = document.getElementById(\"tensorboard-frame-2a5e1dd010d9e197\");\n",
       "          const url = new URL(\"/\", window.location);\n",
       "          const port = 6008;\n",
       "          if (port) {\n",
       "            url.port = port;\n",
       "          }\n",
       "          frame.src = url;\n",
       "        })();\n",
       "      </script>\n",
       "    "
      ],
      "text/plain": [
       "<IPython.core.display.HTML object>"
      ]
     },
     "metadata": {},
     "output_type": "display_data"
    }
   ],
   "source": [
    "%tensorboard --logdir=./my_mnist_logs"
   ]
  },
  {
   "cell_type": "code",
   "execution_count": 131,
   "metadata": {
    "tags": []
   },
   "outputs": [
    {
     "name": "stdout",
     "output_type": "stream",
     "text": [
      "# Run Date: Wednesday, February 08, 2023\n",
      "# Run Time: 00:17:30\n"
     ]
    }
   ],
   "source": [
    "endTime = time.time()\n",
    "\n",
    "elapsedTime = time.strftime(\"%H:%M:%S\", time.gmtime(endTime - startTime))\n",
    "\n",
    "print(todaysDate.strftime('# Run Date: %A, %B %d, %Y'))\n",
    "print(f\"# Run Time: {elapsedTime}\")"
   ]
  }
 ],
 "metadata": {
  "kernelspec": {
   "display_name": "Python 3 (ipykernel)",
   "language": "python",
   "name": "python3"
  },
  "language_info": {
   "codemirror_mode": {
    "name": "ipython",
    "version": 3
   },
   "file_extension": ".py",
   "mimetype": "text/x-python",
   "name": "python",
   "nbconvert_exporter": "python",
   "pygments_lexer": "ipython3",
   "version": "3.8.10"
  },
  "nav_menu": {
   "height": "264px",
   "width": "369px"
  },
  "toc": {
   "navigate_menu": true,
   "number_sections": true,
   "sideBar": true,
   "threshold": 6,
   "toc_cell": false,
   "toc_section_display": "block",
   "toc_window_display": false
  }
 },
 "nbformat": 4,
 "nbformat_minor": 4
}
